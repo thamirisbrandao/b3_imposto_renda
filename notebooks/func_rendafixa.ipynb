{
 "cells": [
  {
   "cell_type": "code",
   "execution_count": 1,
   "id": "08602264",
   "metadata": {},
   "outputs": [
    {
     "name": "stderr",
     "output_type": "stream",
     "text": [
      "/home/thamirisbrandao/.pyenv/versions/3.8.12/envs/lewagon/lib/python3.8/site-packages/openpyxl/styles/stylesheet.py:226: UserWarning: Workbook contains no default style, apply openpyxl's default\n",
      "  warn(\"Workbook contains no default style, apply openpyxl's default\")\n"
     ]
    }
   ],
   "source": [
    "import pandas as pd\n",
    "from os import listdir\n",
    "from os.path import isfile, join\n",
    "import numpy as np\n",
    "\n",
    "def get_data_b3():\n",
    "    path = '../raw_data'\n",
    "    files = [f for f in listdir(path) if isfile(join(path, f))] \n",
    "    list_files = []\n",
    "    for file in range(0, len(files)):\n",
    "        list_file = pd.read_excel(f'{path}/{files[file]}', parse_dates=['Data'])\n",
    "        list_files.append(list_file)\n",
    "    list_all_files = pd.concat(list_files)\n",
    "    list_files_s = list_all_files.sort_values(by=['Produto', 'Data'])\n",
    "    df_files = pd.DataFrame(list_files_s)\n",
    "    return df_files\n",
    "df_files = get_data_b3()"
   ]
  },
  {
   "cell_type": "code",
   "execution_count": 2,
   "id": "37ac2ac9",
   "metadata": {},
   "outputs": [],
   "source": [
    "def files_featuring_eng():\n",
    "    df_files = get_data_b3()\n",
    "    df_files['Data da compra'] = df_files['Data'].where(df_files['Entrada/Saída'] == 'Credito')\n",
    "    df_files['Data da venda'] = df_files['Data'].where(df_files['Entrada/Saída'] == 'Debito')\n",
    "    df_files = df_files[['Produto', 'Data da compra', 'Data da venda', 'Quantidade', 'Preço unitário', 'Valor da Operação', 'Movimentação', 'Instituição']]\n",
    "    df_files['Quantidade'] = df_files['Quantidade'].apply(lambda x: x.replace(',','.'))\n",
    "    df_files['Quantidade'] = df_files['Quantidade'].astype(float)\n",
    "    return df_files\n",
    "df_files = files_featuring_eng()"
   ]
  },
  {
   "cell_type": "code",
   "execution_count": 3,
   "id": "93c2fcbc",
   "metadata": {},
   "outputs": [],
   "source": [
    "def fixed_income():\n",
    "    df_files = files_featuring_eng()\n",
    "    df_fixedi_b = df_files[df_files['Movimentação'] == 'Compra']\n",
    "    df_fixedi_s = df_files[df_files['Movimentação'] == 'Venda']\n",
    "    df_fixedi = pd.concat([df_fixedi_b, df_fixedi_s])\n",
    "    df_fixedi = df_fixedi[['Produto', 'Data da compra', 'Data da venda', 'Quantidade', 'Preço unitário', 'Valor da Operação', 'Instituição']]\n",
    "    df_fixedi = df_fixedi.sort_values(by=['Produto']).reset_index()\n",
    "    return df_fixedi\n",
    "df_fixedi = fixed_income()"
   ]
  },
  {
   "cell_type": "code",
   "execution_count": 5,
   "id": "08d1831b",
   "metadata": {},
   "outputs": [
    {
     "name": "stderr",
     "output_type": "stream",
     "text": [
      "/tmp/ipykernel_2351/2470130040.py:10: SettingWithCopyWarning: \n",
      "A value is trying to be set on a copy of a slice from a DataFrame\n",
      "\n",
      "See the caveats in the documentation: https://pandas.pydata.org/pandas-docs/stable/user_guide/indexing.html#returning-a-view-versus-a-copy\n",
      "  quantity_prod.Quantidade[line] = quantity_prod.Quantidade[line]*-1\n"
     ]
    }
   ],
   "source": [
    "def fixed_income_quantity():\n",
    "    df_fixedi = fixed_income()\n",
    "    df_fixedi_buy = df_fixedi[df_fixedi['Data da compra'] > '20000101'].groupby('Produto').agg({'Quantidade':'sum'}).reset_index()\n",
    "    df_fixedi_sel = df_fixedi[df_fixedi['Data da venda'] > '20000101'].groupby('Produto').agg({'Quantidade':'sum'}).transform(lambda x: x *-1).reset_index()\n",
    "    quantity = pd.concat([df_fixedi_sel, df_fixedi_buy]).reset_index()\n",
    "    quantity_prod = quantity.groupby(['Produto']).sum().reset_index()\n",
    "    quantity_prod.drop(columns='index', inplace=True)\n",
    "    for line in range(0, len(quantity_prod)):\n",
    "        if quantity_prod.Quantidade[line] < 0:\n",
    "            quantity_prod.Quantidade[line] = quantity_prod.Quantidade[line]*-1\n",
    "        else:\n",
    "            quantity_prod.Quantidade[line]\n",
    "    quantity_prod = quantity_prod.rename(columns={'Quantidade': 'Saldo no Tesouro'})\n",
    "    quantity_prod = pd.DataFrame(quantity_prod)\n",
    "  #  quantity_prod = quantity_prod.drop(columns='index')\n",
    "    return quantity_prod\n",
    "quantity_prod = fixed_income_quantity()"
   ]
  },
  {
   "cell_type": "code",
   "execution_count": 7,
   "id": "69d4f5b5",
   "metadata": {},
   "outputs": [
    {
     "name": "stderr",
     "output_type": "stream",
     "text": [
      "/tmp/ipykernel_2351/3595708677.py:10: SettingWithCopyWarning: \n",
      "A value is trying to be set on a copy of a slice from a DataFrame\n",
      "\n",
      "See the caveats in the documentation: https://pandas.pydata.org/pandas-docs/stable/user_guide/indexing.html#returning-a-view-versus-a-copy\n",
      "  df_fixedi_opB['Lucro/Prejuízo'][lineB] = df_fixedi_opS['Valor da Operação'][lineS] - df_fixedi_opB['Valor da Operação'][lineB]\n"
     ]
    }
   ],
   "source": [
    "def fixed_income_prof_loss():\n",
    "    df_fixedi = fixed_income()\n",
    "    df_fixedi_opB = df_fixedi[df_fixedi['Data da compra'] > '20000101'].reset_index()\n",
    "    df_fixedi_opS = df_fixedi[df_fixedi['Data da venda'] > '20000101'].reset_index()\n",
    "\n",
    "    df_fixedi_opB['Lucro/Prejuízo'] = 0\n",
    "    for lineS in range(0, len(df_fixedi_opS)):\n",
    "        for lineB in range(0, len(df_fixedi_opB)):\n",
    "            if df_fixedi_opS['Quantidade'][lineS] == df_fixedi_opB['Quantidade'][lineB]:\n",
    "                df_fixedi_opB['Lucro/Prejuízo'][lineB] = df_fixedi_opS['Valor da Operação'][lineS] - df_fixedi_opB['Valor da Operação'][lineB]\n",
    "    prof_loss_prod = df_fixedi_opB[['Produto', 'Lucro/Prejuízo']]\n",
    "    return prof_loss_prod\n",
    "prof_loss_prod = fixed_income_prof_loss()\n"
   ]
  },
  {
   "cell_type": "code",
   "execution_count": null,
   "id": "2697cc42",
   "metadata": {},
   "outputs": [],
   "source": [
    "def fixed_income_b3():\n",
    "    prof_loss_prod = fixed_income_prof_loss()\n",
    "    quantity_prod = fixed_income_quantity()\n",
    "    df_fixedi = fixed_income()\n",
    "    quan_prof_loss = pd.concat([quantity_prod, prof_loss_prod]).reset_index()\n",
    "    prof_loss = quan_prof_loss.groupby(['Produto']).sum().reset_index()\n",
    "    prof_loss = prof_loss.drop(columns='index')\n",
    "\n",
    "    merge_fixo = pd.merge(df_fixedi, prof_loss, how='left', on='Produto')\n",
    "    merge_fixo.drop(columns=['index', 'Instituição'], inplace = True)\n",
    "    merge_fixo = merge_fixo.sort_values(['Produto', 'Data da compra', 'Data da venda'])\n",
    "\n",
    "    merge_fixo['Lucro/Prejuizo'] = ''\n",
    "    merge_fixo['Saldo Tesouro'] = ''\n",
    "    for line in range(0, len(merge_fixo)-1):\n",
    "        if merge_fixo['Produto'].iloc[line] != merge_fixo['Produto'].iloc[line+1]:\n",
    "            merge_fixo['Lucro/Prejuizo'].iloc[line] = merge_fixo['Lucro/Prejuízo'].iloc[line]\n",
    "            merge_fixo['Saldo Tesouro'].iloc[line] = merge_fixo['Saldo no Tesouro'].iloc[line]\n",
    "        else:\n",
    "            merge_fixo['Lucro/Prejuizo'].iloc[line] = 'nan'\n",
    "            merge_fixo['Saldo Tesouro'].iloc[line] = 'nan'\n",
    "    merge_fixo['Lucro/Prejuizo'].iloc[len(merge_fixo)-1] = merge_fixo['Lucro/Prejuízo'].iloc[len(merge_fixo)-1]\n",
    "    merge_fixo['Saldo Tesouro'].iloc[len(merge_fixo)-1] = merge_fixo['Saldo no Tesouro'].iloc[len(merge_fixo)-1]\n",
    "    merge_fixo.drop(columns=['Saldo no Tesouro', 'Lucro/Prejuízo'], inplace=True)\n",
    "    spreadsheet_to_income_tax = merge_fixo.to_csv('../raw_data/spreadsheet_income_tax.csv')\n",
    "    return spreadsheet_to_income_tax\n",
    "planilha = fixed_income_b3()\n",
    "planilha"
   ]
  }
 ],
 "metadata": {
  "kernelspec": {
   "display_name": "Python 3 (ipykernel)",
   "language": "python",
   "name": "python3"
  },
  "language_info": {
   "codemirror_mode": {
    "name": "ipython",
    "version": 3
   },
   "file_extension": ".py",
   "mimetype": "text/x-python",
   "name": "python",
   "nbconvert_exporter": "python",
   "pygments_lexer": "ipython3",
   "version": "3.8.12"
  }
 },
 "nbformat": 4,
 "nbformat_minor": 5
}
