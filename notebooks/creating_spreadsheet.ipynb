{
 "cells": [
  {
   "cell_type": "markdown",
   "id": "abc25184",
   "metadata": {},
   "source": [
    "# Creating spreadsheet from B3 to income tax"
   ]
  },
  {
   "cell_type": "markdown",
   "id": "dc777152",
   "metadata": {},
   "source": [
    "# Criando uma planilha com dados retirados da B3 para declarar no impost do renda"
   ]
  },
  {
   "cell_type": "code",
   "execution_count": 1,
   "id": "e20b988e",
   "metadata": {},
   "outputs": [],
   "source": [
    "%load_ext autoreload\n",
    "%autoreload 2\n",
    "import pandas as pd\n",
    "from os import listdir\n",
    "from os.path import isfile, join\n",
    "import numpy as np"
   ]
  },
  {
   "cell_type": "markdown",
   "id": "e8e6644d",
   "metadata": {},
   "source": [
    "Is necessary to put the data in raw_data directory because the informations are personas"
   ]
  },
  {
   "cell_type": "markdown",
   "id": "66126980",
   "metadata": {},
   "source": [
    "Necessário colocar os dados em raw_data por se tratar de informações pessoais"
   ]
  },
  {
   "cell_type": "code",
   "execution_count": 2,
   "id": "7f09798a",
   "metadata": {},
   "outputs": [],
   "source": [
    "path = '../raw_data'\n",
    "files = [f for f in listdir(path) if isfile(join(path, f))] "
   ]
  },
  {
   "cell_type": "markdown",
   "id": "8f578bb5",
   "metadata": {},
   "source": [
    "Feature engineering"
   ]
  },
  {
   "cell_type": "markdown",
   "id": "b5afa11f",
   "metadata": {},
   "source": [
    "Organizando as colunas "
   ]
  },
  {
   "cell_type": "code",
   "execution_count": 3,
   "id": "4932aec2",
   "metadata": {
    "scrolled": true
   },
   "outputs": [
    {
     "name": "stderr",
     "output_type": "stream",
     "text": [
      "/home/thamirisbrandao/.pyenv/versions/3.8.12/envs/lewagon/lib/python3.8/site-packages/openpyxl/styles/stylesheet.py:226: UserWarning: Workbook contains no default style, apply openpyxl's default\n",
      "  warn(\"Workbook contains no default style, apply openpyxl's default\")\n"
     ]
    },
    {
     "data": {
      "text/plain": [
       "Entrada/Saída                object\n",
       "Data                 datetime64[ns]\n",
       "Movimentação                 object\n",
       "Produto                      object\n",
       "Instituição                  object\n",
       "Quantidade                   object\n",
       "Preço unitário              float64\n",
       "Valor da Operação           float64\n",
       "dtype: object"
      ]
     },
     "execution_count": 3,
     "metadata": {},
     "output_type": "execute_result"
    }
   ],
   "source": [
    "list_files = []\n",
    "for file in range(0, len(files)):\n",
    "    list_file = pd.read_excel(f'{path}/{files[file]}', parse_dates=['Data'])\n",
    "    list_files.append(list_file)\n",
    "list_all_files = pd.concat(list_files)\n",
    "#list_all_files.Data = pd.to_datetime(list_all_files.Data)\n",
    "list_files_s = list_all_files.sort_values(by=['Produto', 'Data'])\n",
    "df_files = pd.DataFrame(list_files_s)\n",
    "df_files.dtypes"
   ]
  },
  {
   "cell_type": "code",
   "execution_count": 5,
   "id": "1eee2645",
   "metadata": {},
   "outputs": [
    {
     "name": "stderr",
     "output_type": "stream",
     "text": [
      "/tmp/ipykernel_756/492304967.py:4: SettingWithCopyWarning: \n",
      "A value is trying to be set on a copy of a slice from a DataFrame.\n",
      "Try using .loc[row_indexer,col_indexer] = value instead\n",
      "\n",
      "See the caveats in the documentation: https://pandas.pydata.org/pandas-docs/stable/user_guide/indexing.html#returning-a-view-versus-a-copy\n",
      "  df_files['Quantidade'] = df_files['Quantidade'].apply(lambda x: x.replace(',','.'))\n",
      "/tmp/ipykernel_756/492304967.py:5: SettingWithCopyWarning: \n",
      "A value is trying to be set on a copy of a slice from a DataFrame.\n",
      "Try using .loc[row_indexer,col_indexer] = value instead\n",
      "\n",
      "See the caveats in the documentation: https://pandas.pydata.org/pandas-docs/stable/user_guide/indexing.html#returning-a-view-versus-a-copy\n",
      "  df_files['Quantidade'] = df_files['Quantidade'].astype(float)\n"
     ]
    },
    {
     "data": {
      "text/plain": [
       "Produto                      object\n",
       "Data da compra       datetime64[ns]\n",
       "Data da venda        datetime64[ns]\n",
       "Quantidade                  float64\n",
       "Preço unitário              float64\n",
       "Valor da Operação           float64\n",
       "Movimentação                 object\n",
       "Instituição                  object\n",
       "dtype: object"
      ]
     },
     "execution_count": 5,
     "metadata": {},
     "output_type": "execute_result"
    }
   ],
   "source": [
    "df_files['Data da compra'] = df_files['Data'].where(df_files['Entrada/Saída'] == 'Credito')\n",
    "df_files['Data da venda'] = df_files['Data'].where(df_files['Entrada/Saída'] == 'Debito')\n",
    "df_files = df_files[['Produto', 'Data da compra', 'Data da venda', 'Quantidade', 'Preço unitário', 'Valor da Operação', 'Movimentação', 'Instituição']]\n",
    "df_files['Quantidade'] = df_files['Quantidade'].apply(lambda x: x.replace(',','.'))\n",
    "df_files['Quantidade'] = df_files['Quantidade'].astype(float)\n",
    "df_files.dtypes"
   ]
  },
  {
   "cell_type": "code",
   "execution_count": 7,
   "id": "6d9f7f0e",
   "metadata": {},
   "outputs": [
    {
     "data": {
      "text/html": [
       "<div>\n",
       "<style scoped>\n",
       "    .dataframe tbody tr th:only-of-type {\n",
       "        vertical-align: middle;\n",
       "    }\n",
       "\n",
       "    .dataframe tbody tr th {\n",
       "        vertical-align: top;\n",
       "    }\n",
       "\n",
       "    .dataframe thead th {\n",
       "        text-align: right;\n",
       "    }\n",
       "</style>\n",
       "<table border=\"1\" class=\"dataframe\">\n",
       "  <thead>\n",
       "    <tr style=\"text-align: right;\">\n",
       "      <th></th>\n",
       "      <th>index</th>\n",
       "      <th>Produto</th>\n",
       "      <th>Data da compra</th>\n",
       "      <th>Data da venda</th>\n",
       "      <th>Quantidade</th>\n",
       "      <th>Preço unitário</th>\n",
       "      <th>Valor da Operação</th>\n",
       "      <th>Instituição</th>\n",
       "    </tr>\n",
       "  </thead>\n",
       "  <tbody>\n",
       "    <tr>\n",
       "      <th>0</th>\n",
       "      <td>48</td>\n",
       "      <td>ABEV3 - AMBEV S.A.                            ...</td>\n",
       "      <td>NaT</td>\n",
       "      <td>2020-05-19</td>\n",
       "      <td>100.0</td>\n",
       "      <td>11.81</td>\n",
       "      <td>1181.00</td>\n",
       "      <td>XP INVESTIMENTOS CCTVM S/A</td>\n",
       "    </tr>\n",
       "    <tr>\n",
       "      <th>1</th>\n",
       "      <td>6</td>\n",
       "      <td>AMER3        - B2W COMPANHIA DIGITAL</td>\n",
       "      <td>NaT</td>\n",
       "      <td>2021-10-11</td>\n",
       "      <td>72.0</td>\n",
       "      <td>32.67</td>\n",
       "      <td>2352.24</td>\n",
       "      <td>CLEAR CORRETORA - GRUPO XP</td>\n",
       "    </tr>\n",
       "    <tr>\n",
       "      <th>2</th>\n",
       "      <td>31</td>\n",
       "      <td>BBAS3 - BCO BRASIL S.A.                       ...</td>\n",
       "      <td>2020-03-06</td>\n",
       "      <td>NaT</td>\n",
       "      <td>50.0</td>\n",
       "      <td>31.86</td>\n",
       "      <td>1593.00</td>\n",
       "      <td>CLEAR CORRETORA - GRUPO XP</td>\n",
       "    </tr>\n",
       "    <tr>\n",
       "      <th>3</th>\n",
       "      <td>17</td>\n",
       "      <td>BBAS3 - BCO BRASIL S.A.                       ...</td>\n",
       "      <td>2020-06-24</td>\n",
       "      <td>NaT</td>\n",
       "      <td>50.0</td>\n",
       "      <td>33.70</td>\n",
       "      <td>1685.00</td>\n",
       "      <td>CLEAR CORRETORA - GRUPO XP</td>\n",
       "    </tr>\n",
       "    <tr>\n",
       "      <th>4</th>\n",
       "      <td>7</td>\n",
       "      <td>BBAS3 - BCO BRASIL S.A.                       ...</td>\n",
       "      <td>NaT</td>\n",
       "      <td>2021-05-24</td>\n",
       "      <td>210.0</td>\n",
       "      <td>32.83</td>\n",
       "      <td>6894.30</td>\n",
       "      <td>CLEAR CORRETORA - GRUPO XP</td>\n",
       "    </tr>\n",
       "    <tr>\n",
       "      <th>...</th>\n",
       "      <td>...</td>\n",
       "      <td>...</td>\n",
       "      <td>...</td>\n",
       "      <td>...</td>\n",
       "      <td>...</td>\n",
       "      <td>...</td>\n",
       "      <td>...</td>\n",
       "      <td>...</td>\n",
       "    </tr>\n",
       "    <tr>\n",
       "      <th>111</th>\n",
       "      <td>62</td>\n",
       "      <td>VVAR3 - VIA VAREJO S.A.                       ...</td>\n",
       "      <td>2020-03-20</td>\n",
       "      <td>NaT</td>\n",
       "      <td>900.0</td>\n",
       "      <td>4.35</td>\n",
       "      <td>3915.00</td>\n",
       "      <td>CLEAR CORRETORA - GRUPO XP</td>\n",
       "    </tr>\n",
       "    <tr>\n",
       "      <th>112</th>\n",
       "      <td>50</td>\n",
       "      <td>VVAR3 - VIA VAREJO S.A.                       ...</td>\n",
       "      <td>NaT</td>\n",
       "      <td>2020-05-05</td>\n",
       "      <td>1800.0</td>\n",
       "      <td>9.00</td>\n",
       "      <td>16200.00</td>\n",
       "      <td>CLEAR CORRETORA - GRUPO XP</td>\n",
       "    </tr>\n",
       "    <tr>\n",
       "      <th>113</th>\n",
       "      <td>41</td>\n",
       "      <td>YDUQ3 - YDUQS PARTICIPACOES S.A.              ...</td>\n",
       "      <td>2020-03-06</td>\n",
       "      <td>NaT</td>\n",
       "      <td>40.0</td>\n",
       "      <td>29.50</td>\n",
       "      <td>1180.00</td>\n",
       "      <td>CLEAR CORRETORA - GRUPO XP</td>\n",
       "    </tr>\n",
       "    <tr>\n",
       "      <th>114</th>\n",
       "      <td>14</td>\n",
       "      <td>YDUQ3 - YDUQS PARTICIPACOES S.A.              ...</td>\n",
       "      <td>2020-07-28</td>\n",
       "      <td>NaT</td>\n",
       "      <td>40.0</td>\n",
       "      <td>32.98</td>\n",
       "      <td>1319.20</td>\n",
       "      <td>CLEAR CORRETORA - GRUPO XP</td>\n",
       "    </tr>\n",
       "    <tr>\n",
       "      <th>115</th>\n",
       "      <td>17</td>\n",
       "      <td>YDUQ3 - YDUQS PARTICIPACOES S.A.              ...</td>\n",
       "      <td>NaT</td>\n",
       "      <td>2021-05-24</td>\n",
       "      <td>80.0</td>\n",
       "      <td>31.43</td>\n",
       "      <td>2514.40</td>\n",
       "      <td>CLEAR CORRETORA - GRUPO XP</td>\n",
       "    </tr>\n",
       "  </tbody>\n",
       "</table>\n",
       "<p>116 rows × 8 columns</p>\n",
       "</div>"
      ],
      "text/plain": [
       "     index                                            Produto Data da compra  \\\n",
       "0       48  ABEV3 - AMBEV S.A.                            ...            NaT   \n",
       "1        6               AMER3        - B2W COMPANHIA DIGITAL            NaT   \n",
       "2       31  BBAS3 - BCO BRASIL S.A.                       ...     2020-03-06   \n",
       "3       17  BBAS3 - BCO BRASIL S.A.                       ...     2020-06-24   \n",
       "4        7  BBAS3 - BCO BRASIL S.A.                       ...            NaT   \n",
       "..     ...                                                ...            ...   \n",
       "111     62  VVAR3 - VIA VAREJO S.A.                       ...     2020-03-20   \n",
       "112     50  VVAR3 - VIA VAREJO S.A.                       ...            NaT   \n",
       "113     41  YDUQ3 - YDUQS PARTICIPACOES S.A.              ...     2020-03-06   \n",
       "114     14  YDUQ3 - YDUQS PARTICIPACOES S.A.              ...     2020-07-28   \n",
       "115     17  YDUQ3 - YDUQS PARTICIPACOES S.A.              ...            NaT   \n",
       "\n",
       "    Data da venda  Quantidade  Preço unitário  Valor da Operação  \\\n",
       "0      2020-05-19       100.0           11.81            1181.00   \n",
       "1      2021-10-11        72.0           32.67            2352.24   \n",
       "2             NaT        50.0           31.86            1593.00   \n",
       "3             NaT        50.0           33.70            1685.00   \n",
       "4      2021-05-24       210.0           32.83            6894.30   \n",
       "..            ...         ...             ...                ...   \n",
       "111           NaT       900.0            4.35            3915.00   \n",
       "112    2020-05-05      1800.0            9.00           16200.00   \n",
       "113           NaT        40.0           29.50            1180.00   \n",
       "114           NaT        40.0           32.98            1319.20   \n",
       "115    2021-05-24        80.0           31.43            2514.40   \n",
       "\n",
       "                    Instituição  \n",
       "0    XP INVESTIMENTOS CCTVM S/A  \n",
       "1    CLEAR CORRETORA - GRUPO XP  \n",
       "2    CLEAR CORRETORA - GRUPO XP  \n",
       "3    CLEAR CORRETORA - GRUPO XP  \n",
       "4    CLEAR CORRETORA - GRUPO XP  \n",
       "..                          ...  \n",
       "111  CLEAR CORRETORA - GRUPO XP  \n",
       "112  CLEAR CORRETORA - GRUPO XP  \n",
       "113  CLEAR CORRETORA - GRUPO XP  \n",
       "114  CLEAR CORRETORA - GRUPO XP  \n",
       "115  CLEAR CORRETORA - GRUPO XP  \n",
       "\n",
       "[116 rows x 8 columns]"
      ]
     },
     "execution_count": 7,
     "metadata": {},
     "output_type": "execute_result"
    }
   ],
   "source": [
    "df_stock = df_files[df_files['Movimentação'] == 'Transferência - Liquidação']\n",
    "df_stock = df_files[['Produto', 'Data da compra', 'Data da venda', 'Quantidade', 'Preço unitário', 'Valor da Operação', 'Instituição']]\n",
    "df_stock = df_stock.sort_values(by=['Produto']).reset_index()\n",
    "df_stock"
   ]
  },
  {
   "cell_type": "code",
   "execution_count": 8,
   "id": "54327e13",
   "metadata": {},
   "outputs": [
    {
     "data": {
      "text/html": [
       "<div>\n",
       "<style scoped>\n",
       "    .dataframe tbody tr th:only-of-type {\n",
       "        vertical-align: middle;\n",
       "    }\n",
       "\n",
       "    .dataframe tbody tr th {\n",
       "        vertical-align: top;\n",
       "    }\n",
       "\n",
       "    .dataframe thead th {\n",
       "        text-align: right;\n",
       "    }\n",
       "</style>\n",
       "<table border=\"1\" class=\"dataframe\">\n",
       "  <thead>\n",
       "    <tr style=\"text-align: right;\">\n",
       "      <th></th>\n",
       "      <th>index</th>\n",
       "      <th>Produto</th>\n",
       "      <th>Data da compra</th>\n",
       "      <th>Data da venda</th>\n",
       "      <th>Quantidade</th>\n",
       "      <th>Preço unitário</th>\n",
       "      <th>Valor da Operação</th>\n",
       "      <th>Instituição</th>\n",
       "    </tr>\n",
       "  </thead>\n",
       "  <tbody>\n",
       "    <tr>\n",
       "      <th>0</th>\n",
       "      <td>63</td>\n",
       "      <td>Tesouro Selic 2023</td>\n",
       "      <td>NaT</td>\n",
       "      <td>2020-03-17</td>\n",
       "      <td>0.71</td>\n",
       "      <td>10551.64</td>\n",
       "      <td>7491.66</td>\n",
       "      <td>XP INVESTIMENTOS CCTVM S/A</td>\n",
       "    </tr>\n",
       "    <tr>\n",
       "      <th>1</th>\n",
       "      <td>78</td>\n",
       "      <td>Tesouro Selic 2025</td>\n",
       "      <td>2020-07-01</td>\n",
       "      <td>NaT</td>\n",
       "      <td>2.14</td>\n",
       "      <td>10466.52</td>\n",
       "      <td>22398.35</td>\n",
       "      <td>CLEAR CORRETORA - GRUPO XP</td>\n",
       "    </tr>\n",
       "    <tr>\n",
       "      <th>2</th>\n",
       "      <td>0</td>\n",
       "      <td>Tesouro Selic 2025</td>\n",
       "      <td>2022-03-23</td>\n",
       "      <td>NaT</td>\n",
       "      <td>4.72</td>\n",
       "      <td>11457.89</td>\n",
       "      <td>54081.24</td>\n",
       "      <td>CLEAR CORRETORA - GRUPO XP</td>\n",
       "    </tr>\n",
       "    <tr>\n",
       "      <th>3</th>\n",
       "      <td>77</td>\n",
       "      <td>Tesouro Selic 2025</td>\n",
       "      <td>NaT</td>\n",
       "      <td>2020-03-02</td>\n",
       "      <td>2.14</td>\n",
       "      <td>10495.41</td>\n",
       "      <td>22460.18</td>\n",
       "      <td>CLEAR CORRETORA - GRUPO XP</td>\n",
       "    </tr>\n",
       "    <tr>\n",
       "      <th>4</th>\n",
       "      <td>6</td>\n",
       "      <td>Tesouro Selic 2027</td>\n",
       "      <td>2021-10-19</td>\n",
       "      <td>NaT</td>\n",
       "      <td>7.34</td>\n",
       "      <td>10905.72</td>\n",
       "      <td>80047.98</td>\n",
       "      <td>CLEAR CORRETORA - GRUPO XP</td>\n",
       "    </tr>\n",
       "  </tbody>\n",
       "</table>\n",
       "</div>"
      ],
      "text/plain": [
       "   index             Produto Data da compra Data da venda  Quantidade  \\\n",
       "0     63  Tesouro Selic 2023            NaT    2020-03-17        0.71   \n",
       "1     78  Tesouro Selic 2025     2020-07-01           NaT        2.14   \n",
       "2      0  Tesouro Selic 2025     2022-03-23           NaT        4.72   \n",
       "3     77  Tesouro Selic 2025            NaT    2020-03-02        2.14   \n",
       "4      6  Tesouro Selic 2027     2021-10-19           NaT        7.34   \n",
       "\n",
       "   Preço unitário  Valor da Operação                 Instituição  \n",
       "0        10551.64            7491.66  XP INVESTIMENTOS CCTVM S/A  \n",
       "1        10466.52           22398.35  CLEAR CORRETORA - GRUPO XP  \n",
       "2        11457.89           54081.24  CLEAR CORRETORA - GRUPO XP  \n",
       "3        10495.41           22460.18  CLEAR CORRETORA - GRUPO XP  \n",
       "4        10905.72           80047.98  CLEAR CORRETORA - GRUPO XP  "
      ]
     },
     "execution_count": 8,
     "metadata": {},
     "output_type": "execute_result"
    }
   ],
   "source": [
    "df_fixedi_c = df_files[df_files['Movimentação'] == 'Compra']\n",
    "df_fixedi_v = df_files[df_files['Movimentação'] == 'Venda']\n",
    "df_fixedi = pd.concat([df_fixedi_c, df_fixedi_v])\n",
    "df_fixedi = df_fixedi[['Produto', 'Data da compra', 'Data da venda', 'Quantidade', 'Preço unitário', 'Valor da Operação', 'Instituição']]\n",
    "df_fixedi = df_fixedi.sort_values(by=['Produto']).reset_index()\n",
    "df_fixedi"
   ]
  },
  {
   "cell_type": "code",
   "execution_count": 10,
   "id": "bd6d9bee",
   "metadata": {},
   "outputs": [
    {
     "data": {
      "text/html": [
       "<div>\n",
       "<style scoped>\n",
       "    .dataframe tbody tr th:only-of-type {\n",
       "        vertical-align: middle;\n",
       "    }\n",
       "\n",
       "    .dataframe tbody tr th {\n",
       "        vertical-align: top;\n",
       "    }\n",
       "\n",
       "    .dataframe thead th {\n",
       "        text-align: right;\n",
       "    }\n",
       "</style>\n",
       "<table border=\"1\" class=\"dataframe\">\n",
       "  <thead>\n",
       "    <tr style=\"text-align: right;\">\n",
       "      <th></th>\n",
       "      <th>Produto</th>\n",
       "      <th>Quantidade</th>\n",
       "    </tr>\n",
       "  </thead>\n",
       "  <tbody>\n",
       "    <tr>\n",
       "      <th>0</th>\n",
       "      <td>Tesouro Selic 2025</td>\n",
       "      <td>6.86</td>\n",
       "    </tr>\n",
       "    <tr>\n",
       "      <th>1</th>\n",
       "      <td>Tesouro Selic 2027</td>\n",
       "      <td>7.34</td>\n",
       "    </tr>\n",
       "  </tbody>\n",
       "</table>\n",
       "</div>"
      ],
      "text/plain": [
       "              Produto  Quantidade\n",
       "0  Tesouro Selic 2025        6.86\n",
       "1  Tesouro Selic 2027        7.34"
      ]
     },
     "execution_count": 10,
     "metadata": {},
     "output_type": "execute_result"
    }
   ],
   "source": [
    "df_fixedi_buy = df_fixedi[df_fixedi['Data da compra'] > '20000101'].groupby('Produto').agg({'Quantidade':'sum'}).reset_index()\n",
    "df_fixedi_buy"
   ]
  },
  {
   "cell_type": "code",
   "execution_count": 42,
   "id": "f54e2831",
   "metadata": {},
   "outputs": [
    {
     "data": {
      "text/html": [
       "<div>\n",
       "<style scoped>\n",
       "    .dataframe tbody tr th:only-of-type {\n",
       "        vertical-align: middle;\n",
       "    }\n",
       "\n",
       "    .dataframe tbody tr th {\n",
       "        vertical-align: top;\n",
       "    }\n",
       "\n",
       "    .dataframe thead th {\n",
       "        text-align: right;\n",
       "    }\n",
       "</style>\n",
       "<table border=\"1\" class=\"dataframe\">\n",
       "  <thead>\n",
       "    <tr style=\"text-align: right;\">\n",
       "      <th></th>\n",
       "      <th>Produto</th>\n",
       "      <th>Quantidade</th>\n",
       "    </tr>\n",
       "  </thead>\n",
       "  <tbody>\n",
       "    <tr>\n",
       "      <th>0</th>\n",
       "      <td>Tesouro Selic 2023</td>\n",
       "      <td>-0.71</td>\n",
       "    </tr>\n",
       "    <tr>\n",
       "      <th>1</th>\n",
       "      <td>Tesouro Selic 2025</td>\n",
       "      <td>-2.14</td>\n",
       "    </tr>\n",
       "  </tbody>\n",
       "</table>\n",
       "</div>"
      ],
      "text/plain": [
       "              Produto  Quantidade\n",
       "0  Tesouro Selic 2023       -0.71\n",
       "1  Tesouro Selic 2025       -2.14"
      ]
     },
     "execution_count": 42,
     "metadata": {},
     "output_type": "execute_result"
    }
   ],
   "source": [
    "df_fixedi_sel = df_fixedi[df_fixedi['Data da venda'] > '20000101'].groupby('Produto').agg({'Quantidade':'sum'}).transform(lambda x: x *-1).reset_index()\n",
    "df_fixedi_sel"
   ]
  },
  {
   "cell_type": "code",
   "execution_count": 89,
   "id": "9ebd6c68",
   "metadata": {},
   "outputs": [
    {
     "name": "stderr",
     "output_type": "stream",
     "text": [
      "/tmp/ipykernel_756/259721931.py:5: SettingWithCopyWarning: \n",
      "A value is trying to be set on a copy of a slice from a DataFrame\n",
      "\n",
      "See the caveats in the documentation: https://pandas.pydata.org/pandas-docs/stable/user_guide/indexing.html#returning-a-view-versus-a-copy\n",
      "  te.Quantidade[line] = te.Quantidade[line]*-1\n"
     ]
    },
    {
     "data": {
      "text/html": [
       "<div>\n",
       "<style scoped>\n",
       "    .dataframe tbody tr th:only-of-type {\n",
       "        vertical-align: middle;\n",
       "    }\n",
       "\n",
       "    .dataframe tbody tr th {\n",
       "        vertical-align: top;\n",
       "    }\n",
       "\n",
       "    .dataframe thead th {\n",
       "        text-align: right;\n",
       "    }\n",
       "</style>\n",
       "<table border=\"1\" class=\"dataframe\">\n",
       "  <thead>\n",
       "    <tr style=\"text-align: right;\">\n",
       "      <th></th>\n",
       "      <th>Produto</th>\n",
       "      <th>index</th>\n",
       "      <th>Quantidade</th>\n",
       "    </tr>\n",
       "  </thead>\n",
       "  <tbody>\n",
       "    <tr>\n",
       "      <th>0</th>\n",
       "      <td>Tesouro Selic 2023</td>\n",
       "      <td>0</td>\n",
       "      <td>0.71</td>\n",
       "    </tr>\n",
       "    <tr>\n",
       "      <th>1</th>\n",
       "      <td>Tesouro Selic 2025</td>\n",
       "      <td>1</td>\n",
       "      <td>4.72</td>\n",
       "    </tr>\n",
       "    <tr>\n",
       "      <th>2</th>\n",
       "      <td>Tesouro Selic 2027</td>\n",
       "      <td>1</td>\n",
       "      <td>7.34</td>\n",
       "    </tr>\n",
       "  </tbody>\n",
       "</table>\n",
       "</div>"
      ],
      "text/plain": [
       "              Produto  index  Quantidade\n",
       "0  Tesouro Selic 2023      0        0.71\n",
       "1  Tesouro Selic 2025      1        4.72\n",
       "2  Tesouro Selic 2027      1        7.34"
      ]
     },
     "execution_count": 89,
     "metadata": {},
     "output_type": "execute_result"
    }
   ],
   "source": [
    "t = pd.concat([df_fixedi_sel, df_fixedi_buy]).reset_index()\n",
    "te = t.groupby(['Produto']).sum().reset_index()\n",
    "for line in range(0, len(te)):\n",
    "    if te.Quantidade[line] < 0:\n",
    "        te.Quantidade[line] = te.Quantidade[line]*-1\n",
    "    else:\n",
    "        te.Quantidade[line]\n",
    "te"
   ]
  },
  {
   "cell_type": "code",
   "execution_count": 90,
   "id": "8924965d",
   "metadata": {},
   "outputs": [
    {
     "data": {
      "text/html": [
       "<div>\n",
       "<style scoped>\n",
       "    .dataframe tbody tr th:only-of-type {\n",
       "        vertical-align: middle;\n",
       "    }\n",
       "\n",
       "    .dataframe tbody tr th {\n",
       "        vertical-align: top;\n",
       "    }\n",
       "\n",
       "    .dataframe thead th {\n",
       "        text-align: right;\n",
       "    }\n",
       "</style>\n",
       "<table border=\"1\" class=\"dataframe\">\n",
       "  <thead>\n",
       "    <tr style=\"text-align: right;\">\n",
       "      <th></th>\n",
       "      <th>Produto</th>\n",
       "      <th>Quantidade</th>\n",
       "    </tr>\n",
       "  </thead>\n",
       "  <tbody>\n",
       "    <tr>\n",
       "      <th>0</th>\n",
       "      <td>Tesouro Selic 2023</td>\n",
       "      <td>0.71</td>\n",
       "    </tr>\n",
       "    <tr>\n",
       "      <th>1</th>\n",
       "      <td>Tesouro Selic 2025</td>\n",
       "      <td>4.72</td>\n",
       "    </tr>\n",
       "    <tr>\n",
       "      <th>2</th>\n",
       "      <td>Tesouro Selic 2027</td>\n",
       "      <td>7.34</td>\n",
       "    </tr>\n",
       "  </tbody>\n",
       "</table>\n",
       "</div>"
      ],
      "text/plain": [
       "              Produto  Quantidade\n",
       "0  Tesouro Selic 2023        0.71\n",
       "1  Tesouro Selic 2025        4.72\n",
       "2  Tesouro Selic 2027        7.34"
      ]
     },
     "execution_count": 90,
     "metadata": {},
     "output_type": "execute_result"
    }
   ],
   "source": [
    "te = pd.DataFrame(te)\n",
    "te = te.drop(columns='index')\n",
    "te"
   ]
  },
  {
   "cell_type": "code",
   "execution_count": 91,
   "id": "28b9240a",
   "metadata": {},
   "outputs": [
    {
     "data": {
      "text/html": [
       "<div>\n",
       "<style scoped>\n",
       "    .dataframe tbody tr th:only-of-type {\n",
       "        vertical-align: middle;\n",
       "    }\n",
       "\n",
       "    .dataframe tbody tr th {\n",
       "        vertical-align: top;\n",
       "    }\n",
       "\n",
       "    .dataframe thead th {\n",
       "        text-align: right;\n",
       "    }\n",
       "</style>\n",
       "<table border=\"1\" class=\"dataframe\">\n",
       "  <thead>\n",
       "    <tr style=\"text-align: right;\">\n",
       "      <th></th>\n",
       "      <th>Produto</th>\n",
       "      <th>Saldo Total</th>\n",
       "    </tr>\n",
       "  </thead>\n",
       "  <tbody>\n",
       "    <tr>\n",
       "      <th>0</th>\n",
       "      <td>Tesouro Selic 2023</td>\n",
       "      <td>0.71</td>\n",
       "    </tr>\n",
       "    <tr>\n",
       "      <th>1</th>\n",
       "      <td>Tesouro Selic 2025</td>\n",
       "      <td>4.72</td>\n",
       "    </tr>\n",
       "    <tr>\n",
       "      <th>2</th>\n",
       "      <td>Tesouro Selic 2027</td>\n",
       "      <td>7.34</td>\n",
       "    </tr>\n",
       "  </tbody>\n",
       "</table>\n",
       "</div>"
      ],
      "text/plain": [
       "              Produto  Saldo Total\n",
       "0  Tesouro Selic 2023         0.71\n",
       "1  Tesouro Selic 2025         4.72\n",
       "2  Tesouro Selic 2027         7.34"
      ]
     },
     "execution_count": 91,
     "metadata": {},
     "output_type": "execute_result"
    }
   ],
   "source": [
    "te = te.rename(columns={'Quantidade': 'Saldo Total'})\n",
    "te"
   ]
  },
  {
   "cell_type": "code",
   "execution_count": null,
   "id": "6e1fc372",
   "metadata": {},
   "outputs": [],
   "source": [
    "#Encontrar lucro ou prejuízo\n",
    "#qual o tempo da venda?\n",
    "#qual era o valor médio da ação no momento da venda?\n",
    "#calcular venda-compra\n",
    "\n",
    "#quantidade do produto da venda é igual quantidade do produto da compra? \n",
    "#se sim, calcular venda-compra"
   ]
  },
  {
   "cell_type": "code",
   "execution_count": 83,
   "id": "50f6eb35",
   "metadata": {},
   "outputs": [
    {
     "data": {
      "text/html": [
       "<div>\n",
       "<style scoped>\n",
       "    .dataframe tbody tr th:only-of-type {\n",
       "        vertical-align: middle;\n",
       "    }\n",
       "\n",
       "    .dataframe tbody tr th {\n",
       "        vertical-align: top;\n",
       "    }\n",
       "\n",
       "    .dataframe thead th {\n",
       "        text-align: right;\n",
       "    }\n",
       "</style>\n",
       "<table border=\"1\" class=\"dataframe\">\n",
       "  <thead>\n",
       "    <tr style=\"text-align: right;\">\n",
       "      <th></th>\n",
       "      <th>level_0</th>\n",
       "      <th>index</th>\n",
       "      <th>Produto</th>\n",
       "      <th>Data da compra</th>\n",
       "      <th>Data da venda</th>\n",
       "      <th>Quantidade</th>\n",
       "      <th>Preço unitário</th>\n",
       "      <th>Valor da Operação</th>\n",
       "      <th>Instituição</th>\n",
       "      <th>Total</th>\n",
       "    </tr>\n",
       "  </thead>\n",
       "  <tbody>\n",
       "    <tr>\n",
       "      <th>0</th>\n",
       "      <td>0</td>\n",
       "      <td>63.0</td>\n",
       "      <td>Tesouro Selic 2023</td>\n",
       "      <td>NaT</td>\n",
       "      <td>2020-03-17</td>\n",
       "      <td>0.71</td>\n",
       "      <td>10551.64</td>\n",
       "      <td>7491.66</td>\n",
       "      <td>XP INVESTIMENTOS CCTVM S/A</td>\n",
       "      <td>NaN</td>\n",
       "    </tr>\n",
       "    <tr>\n",
       "      <th>1</th>\n",
       "      <td>1</td>\n",
       "      <td>78.0</td>\n",
       "      <td>Tesouro Selic 2025</td>\n",
       "      <td>2020-07-01</td>\n",
       "      <td>NaT</td>\n",
       "      <td>2.14</td>\n",
       "      <td>10466.52</td>\n",
       "      <td>22398.35</td>\n",
       "      <td>CLEAR CORRETORA - GRUPO XP</td>\n",
       "      <td>NaN</td>\n",
       "    </tr>\n",
       "    <tr>\n",
       "      <th>2</th>\n",
       "      <td>2</td>\n",
       "      <td>0.0</td>\n",
       "      <td>Tesouro Selic 2025</td>\n",
       "      <td>2022-03-23</td>\n",
       "      <td>NaT</td>\n",
       "      <td>4.72</td>\n",
       "      <td>11457.89</td>\n",
       "      <td>54081.24</td>\n",
       "      <td>CLEAR CORRETORA - GRUPO XP</td>\n",
       "      <td>NaN</td>\n",
       "    </tr>\n",
       "    <tr>\n",
       "      <th>3</th>\n",
       "      <td>3</td>\n",
       "      <td>77.0</td>\n",
       "      <td>Tesouro Selic 2025</td>\n",
       "      <td>NaT</td>\n",
       "      <td>2020-03-02</td>\n",
       "      <td>2.14</td>\n",
       "      <td>10495.41</td>\n",
       "      <td>22460.18</td>\n",
       "      <td>CLEAR CORRETORA - GRUPO XP</td>\n",
       "      <td>NaN</td>\n",
       "    </tr>\n",
       "    <tr>\n",
       "      <th>4</th>\n",
       "      <td>4</td>\n",
       "      <td>6.0</td>\n",
       "      <td>Tesouro Selic 2027</td>\n",
       "      <td>2021-10-19</td>\n",
       "      <td>NaT</td>\n",
       "      <td>7.34</td>\n",
       "      <td>10905.72</td>\n",
       "      <td>80047.98</td>\n",
       "      <td>CLEAR CORRETORA - GRUPO XP</td>\n",
       "      <td>NaN</td>\n",
       "    </tr>\n",
       "    <tr>\n",
       "      <th>5</th>\n",
       "      <td>0</td>\n",
       "      <td>NaN</td>\n",
       "      <td>Tesouro Selic 2023</td>\n",
       "      <td>NaT</td>\n",
       "      <td>NaT</td>\n",
       "      <td>NaN</td>\n",
       "      <td>NaN</td>\n",
       "      <td>NaN</td>\n",
       "      <td>NaN</td>\n",
       "      <td>0.71</td>\n",
       "    </tr>\n",
       "    <tr>\n",
       "      <th>6</th>\n",
       "      <td>1</td>\n",
       "      <td>NaN</td>\n",
       "      <td>Tesouro Selic 2025</td>\n",
       "      <td>NaT</td>\n",
       "      <td>NaT</td>\n",
       "      <td>NaN</td>\n",
       "      <td>NaN</td>\n",
       "      <td>NaN</td>\n",
       "      <td>NaN</td>\n",
       "      <td>4.72</td>\n",
       "    </tr>\n",
       "    <tr>\n",
       "      <th>7</th>\n",
       "      <td>2</td>\n",
       "      <td>NaN</td>\n",
       "      <td>Tesouro Selic 2027</td>\n",
       "      <td>NaT</td>\n",
       "      <td>NaT</td>\n",
       "      <td>NaN</td>\n",
       "      <td>NaN</td>\n",
       "      <td>NaN</td>\n",
       "      <td>NaN</td>\n",
       "      <td>7.34</td>\n",
       "    </tr>\n",
       "  </tbody>\n",
       "</table>\n",
       "</div>"
      ],
      "text/plain": [
       "   level_0  index             Produto Data da compra Data da venda  \\\n",
       "0        0   63.0  Tesouro Selic 2023            NaT    2020-03-17   \n",
       "1        1   78.0  Tesouro Selic 2025     2020-07-01           NaT   \n",
       "2        2    0.0  Tesouro Selic 2025     2022-03-23           NaT   \n",
       "3        3   77.0  Tesouro Selic 2025            NaT    2020-03-02   \n",
       "4        4    6.0  Tesouro Selic 2027     2021-10-19           NaT   \n",
       "5        0    NaN  Tesouro Selic 2023            NaT           NaT   \n",
       "6        1    NaN  Tesouro Selic 2025            NaT           NaT   \n",
       "7        2    NaN  Tesouro Selic 2027            NaT           NaT   \n",
       "\n",
       "   Quantidade  Preço unitário  Valor da Operação                 Instituição  \\\n",
       "0        0.71        10551.64            7491.66  XP INVESTIMENTOS CCTVM S/A   \n",
       "1        2.14        10466.52           22398.35  CLEAR CORRETORA - GRUPO XP   \n",
       "2        4.72        11457.89           54081.24  CLEAR CORRETORA - GRUPO XP   \n",
       "3        2.14        10495.41           22460.18  CLEAR CORRETORA - GRUPO XP   \n",
       "4        7.34        10905.72           80047.98  CLEAR CORRETORA - GRUPO XP   \n",
       "5         NaN             NaN                NaN                         NaN   \n",
       "6         NaN             NaN                NaN                         NaN   \n",
       "7         NaN             NaN                NaN                         NaN   \n",
       "\n",
       "   Total  \n",
       "0    NaN  \n",
       "1    NaN  \n",
       "2    NaN  \n",
       "3    NaN  \n",
       "4    NaN  \n",
       "5   0.71  \n",
       "6   4.72  \n",
       "7   7.34  "
      ]
     },
     "execution_count": 83,
     "metadata": {},
     "output_type": "execute_result"
    }
   ],
   "source": [
    "testando = pd.concat([df_fixedi, te]).reset_index()\n",
    "testando"
   ]
  },
  {
   "cell_type": "code",
   "execution_count": 9,
   "id": "b8058d52",
   "metadata": {},
   "outputs": [
    {
     "data": {
      "text/plain": [
       "0    False\n",
       "1    False\n",
       "2     True\n",
       "3     True\n",
       "4    False\n",
       "Name: Produto, dtype: bool"
      ]
     },
     "execution_count": 9,
     "metadata": {},
     "output_type": "execute_result"
    }
   ],
   "source": [
    "duplicate = df_fixedi.Produto.duplicated()\n",
    "duplicate"
   ]
  },
  {
   "cell_type": "code",
   "execution_count": 59,
   "id": "a71343df",
   "metadata": {},
   "outputs": [
    {
     "data": {
      "text/plain": [
       "0.71"
      ]
     },
     "execution_count": 59,
     "metadata": {},
     "output_type": "execute_result"
    }
   ],
   "source": [
    "te.Quantidade[0] *-1"
   ]
  },
  {
   "cell_type": "code",
   "execution_count": 92,
   "id": "4b0aeb45",
   "metadata": {},
   "outputs": [
    {
     "data": {
      "text/plain": [
       "['Tesouro Selic 2025 9.0']"
      ]
     },
     "execution_count": 92,
     "metadata": {},
     "output_type": "execute_result"
    }
   ],
   "source": [
    "t = []\n",
    "for q_b in range(0, len(df_fixedi_buy)):\n",
    "    for q_s in range(0, len(df_fixedi_sel)):\n",
    "        if df_fixedi_buy.Produto[q_b] == df_fixedi_sel.Produto[q_s]:\n",
    "            quantity_b_s = df_fixedi_buy.Quantidade[q_b] - df_fixedi_sel.Quantidade[q_s]\n",
    "            t.append(f'{df_fixedi_buy.Produto[q_b]} {quantity_b_s}')\n",
    "t"
   ]
  },
  {
   "cell_type": "code",
   "execution_count": 93,
   "id": "a3e31606",
   "metadata": {},
   "outputs": [
    {
     "name": "stdout",
     "output_type": "stream",
     "text": [
      "Tesouro Selic 2027\n"
     ]
    }
   ],
   "source": [
    "print(f'{df_fixedi_buy.Produto[q_b]}')"
   ]
  },
  {
   "cell_type": "code",
   "execution_count": 94,
   "id": "f00dcad3",
   "metadata": {},
   "outputs": [
    {
     "data": {
      "text/html": [
       "<div>\n",
       "<style scoped>\n",
       "    .dataframe tbody tr th:only-of-type {\n",
       "        vertical-align: middle;\n",
       "    }\n",
       "\n",
       "    .dataframe tbody tr th {\n",
       "        vertical-align: top;\n",
       "    }\n",
       "\n",
       "    .dataframe thead th {\n",
       "        text-align: right;\n",
       "    }\n",
       "</style>\n",
       "<table border=\"1\" class=\"dataframe\">\n",
       "  <thead>\n",
       "    <tr style=\"text-align: right;\">\n",
       "      <th></th>\n",
       "      <th>index</th>\n",
       "      <th>Produto</th>\n",
       "      <th>Data da compra</th>\n",
       "      <th>Data da venda</th>\n",
       "      <th>Quantidade</th>\n",
       "      <th>Preço unitário</th>\n",
       "      <th>Valor da Operação</th>\n",
       "      <th>Instituição</th>\n",
       "      <th>Quantidade Acumulada</th>\n",
       "    </tr>\n",
       "  </thead>\n",
       "  <tbody>\n",
       "    <tr>\n",
       "      <th>0</th>\n",
       "      <td>63</td>\n",
       "      <td>Tesouro Selic 2023</td>\n",
       "      <td>NaT</td>\n",
       "      <td>2020-03-17</td>\n",
       "      <td>0.71</td>\n",
       "      <td>10551.64</td>\n",
       "      <td>7491.66</td>\n",
       "      <td>XP INVESTIMENTOS CCTVM S/A</td>\n",
       "      <td>0.71</td>\n",
       "    </tr>\n",
       "    <tr>\n",
       "      <th>1</th>\n",
       "      <td>78</td>\n",
       "      <td>Tesouro Selic 2025</td>\n",
       "      <td>2020-07-01</td>\n",
       "      <td>NaT</td>\n",
       "      <td>2.14</td>\n",
       "      <td>10466.52</td>\n",
       "      <td>22398.35</td>\n",
       "      <td>CLEAR CORRETORA - GRUPO XP</td>\n",
       "      <td>2.85</td>\n",
       "    </tr>\n",
       "    <tr>\n",
       "      <th>2</th>\n",
       "      <td>0</td>\n",
       "      <td>Tesouro Selic 2025</td>\n",
       "      <td>2022-03-23</td>\n",
       "      <td>NaT</td>\n",
       "      <td>4.72</td>\n",
       "      <td>11457.89</td>\n",
       "      <td>54081.24</td>\n",
       "      <td>CLEAR CORRETORA - GRUPO XP</td>\n",
       "      <td>7.57</td>\n",
       "    </tr>\n",
       "    <tr>\n",
       "      <th>3</th>\n",
       "      <td>77</td>\n",
       "      <td>Tesouro Selic 2025</td>\n",
       "      <td>NaT</td>\n",
       "      <td>2020-03-02</td>\n",
       "      <td>2.14</td>\n",
       "      <td>10495.41</td>\n",
       "      <td>22460.18</td>\n",
       "      <td>CLEAR CORRETORA - GRUPO XP</td>\n",
       "      <td>9.71</td>\n",
       "    </tr>\n",
       "    <tr>\n",
       "      <th>4</th>\n",
       "      <td>6</td>\n",
       "      <td>Tesouro Selic 2027</td>\n",
       "      <td>2021-10-19</td>\n",
       "      <td>NaT</td>\n",
       "      <td>7.34</td>\n",
       "      <td>10905.72</td>\n",
       "      <td>80047.98</td>\n",
       "      <td>CLEAR CORRETORA - GRUPO XP</td>\n",
       "      <td>17.05</td>\n",
       "    </tr>\n",
       "  </tbody>\n",
       "</table>\n",
       "</div>"
      ],
      "text/plain": [
       "   index             Produto Data da compra Data da venda  Quantidade  \\\n",
       "0     63  Tesouro Selic 2023            NaT    2020-03-17        0.71   \n",
       "1     78  Tesouro Selic 2025     2020-07-01           NaT        2.14   \n",
       "2      0  Tesouro Selic 2025     2022-03-23           NaT        4.72   \n",
       "3     77  Tesouro Selic 2025            NaT    2020-03-02        2.14   \n",
       "4      6  Tesouro Selic 2027     2021-10-19           NaT        7.34   \n",
       "\n",
       "   Preço unitário  Valor da Operação                 Instituição  \\\n",
       "0        10551.64            7491.66  XP INVESTIMENTOS CCTVM S/A   \n",
       "1        10466.52           22398.35  CLEAR CORRETORA - GRUPO XP   \n",
       "2        11457.89           54081.24  CLEAR CORRETORA - GRUPO XP   \n",
       "3        10495.41           22460.18  CLEAR CORRETORA - GRUPO XP   \n",
       "4        10905.72           80047.98  CLEAR CORRETORA - GRUPO XP   \n",
       "\n",
       "   Quantidade Acumulada  \n",
       "0                  0.71  \n",
       "1                  2.85  \n",
       "2                  7.57  \n",
       "3                  9.71  \n",
       "4                 17.05  "
      ]
     },
     "execution_count": 94,
     "metadata": {},
     "output_type": "execute_result"
    }
   ],
   "source": [
    "df_fixedi['Quantidade Acumulada'] = df_fixedi['Quantidade'].cumsum()\n",
    "df_fixedi"
   ]
  },
  {
   "cell_type": "code",
   "execution_count": 95,
   "id": "1e797517",
   "metadata": {},
   "outputs": [
    {
     "ename": "IndexError",
     "evalue": "single positional indexer is out-of-bounds",
     "output_type": "error",
     "traceback": [
      "\u001b[0;31m---------------------------------------------------------------------------\u001b[0m",
      "\u001b[0;31mIndexError\u001b[0m                                Traceback (most recent call last)",
      "\u001b[0;32m/tmp/ipykernel_756/2456085044.py\u001b[0m in \u001b[0;36m<module>\u001b[0;34m\u001b[0m\n\u001b[1;32m      1\u001b[0m \u001b[0mdf_fixedi\u001b[0m\u001b[0;34m[\u001b[0m\u001b[0;34m'Quantidade Acumulada'\u001b[0m\u001b[0;34m]\u001b[0m \u001b[0;34m=\u001b[0m \u001b[0;36m0\u001b[0m\u001b[0;34m\u001b[0m\u001b[0;34m\u001b[0m\u001b[0m\n\u001b[1;32m      2\u001b[0m \u001b[0;32mfor\u001b[0m \u001b[0mline\u001b[0m \u001b[0;32min\u001b[0m \u001b[0mrange\u001b[0m\u001b[0;34m(\u001b[0m\u001b[0;36m0\u001b[0m\u001b[0;34m,\u001b[0m \u001b[0mlen\u001b[0m\u001b[0;34m(\u001b[0m\u001b[0mdf_fixedi\u001b[0m\u001b[0;34m)\u001b[0m\u001b[0;34m)\u001b[0m\u001b[0;34m:\u001b[0m\u001b[0;34m\u001b[0m\u001b[0;34m\u001b[0m\u001b[0m\n\u001b[0;32m----> 3\u001b[0;31m     \u001b[0;32mif\u001b[0m \u001b[0mdf_fixedi\u001b[0m\u001b[0;34m[\u001b[0m\u001b[0;34m'Produto'\u001b[0m\u001b[0;34m]\u001b[0m\u001b[0;34m.\u001b[0m\u001b[0miloc\u001b[0m\u001b[0;34m[\u001b[0m\u001b[0mline\u001b[0m\u001b[0;34m]\u001b[0m \u001b[0;34m!=\u001b[0m \u001b[0mdf_fixedi\u001b[0m\u001b[0;34m[\u001b[0m\u001b[0;34m'Produto'\u001b[0m\u001b[0;34m]\u001b[0m\u001b[0;34m.\u001b[0m\u001b[0miloc\u001b[0m\u001b[0;34m[\u001b[0m\u001b[0mline\u001b[0m\u001b[0;34m+\u001b[0m\u001b[0;36m1\u001b[0m\u001b[0;34m]\u001b[0m\u001b[0;34m:\u001b[0m\u001b[0;34m\u001b[0m\u001b[0;34m\u001b[0m\u001b[0m\n\u001b[0m\u001b[1;32m      4\u001b[0m         \u001b[0mdf_fixedi\u001b[0m\u001b[0;34m[\u001b[0m\u001b[0;34m'Quantidade Acumulada'\u001b[0m\u001b[0;34m]\u001b[0m\u001b[0;34m.\u001b[0m\u001b[0mappend\u001b[0m\u001b[0;34m(\u001b[0m\u001b[0mdf_fixedi\u001b[0m\u001b[0;34m[\u001b[0m\u001b[0;34m'Quantidade'\u001b[0m\u001b[0;34m]\u001b[0m\u001b[0;34m)\u001b[0m\u001b[0;34m\u001b[0m\u001b[0;34m\u001b[0m\u001b[0m\n\u001b[1;32m      5\u001b[0m \u001b[0mdf_fixedi\u001b[0m\u001b[0;34m\u001b[0m\u001b[0;34m\u001b[0m\u001b[0m\n",
      "\u001b[0;32m~/.pyenv/versions/3.8.12/envs/lewagon/lib/python3.8/site-packages/pandas/core/indexing.py\u001b[0m in \u001b[0;36m__getitem__\u001b[0;34m(self, key)\u001b[0m\n\u001b[1;32m    929\u001b[0m \u001b[0;34m\u001b[0m\u001b[0m\n\u001b[1;32m    930\u001b[0m             \u001b[0mmaybe_callable\u001b[0m \u001b[0;34m=\u001b[0m \u001b[0mcom\u001b[0m\u001b[0;34m.\u001b[0m\u001b[0mapply_if_callable\u001b[0m\u001b[0;34m(\u001b[0m\u001b[0mkey\u001b[0m\u001b[0;34m,\u001b[0m \u001b[0mself\u001b[0m\u001b[0;34m.\u001b[0m\u001b[0mobj\u001b[0m\u001b[0;34m)\u001b[0m\u001b[0;34m\u001b[0m\u001b[0;34m\u001b[0m\u001b[0m\n\u001b[0;32m--> 931\u001b[0;31m             \u001b[0;32mreturn\u001b[0m \u001b[0mself\u001b[0m\u001b[0;34m.\u001b[0m\u001b[0m_getitem_axis\u001b[0m\u001b[0;34m(\u001b[0m\u001b[0mmaybe_callable\u001b[0m\u001b[0;34m,\u001b[0m \u001b[0maxis\u001b[0m\u001b[0;34m=\u001b[0m\u001b[0maxis\u001b[0m\u001b[0;34m)\u001b[0m\u001b[0;34m\u001b[0m\u001b[0;34m\u001b[0m\u001b[0m\n\u001b[0m\u001b[1;32m    932\u001b[0m \u001b[0;34m\u001b[0m\u001b[0m\n\u001b[1;32m    933\u001b[0m     \u001b[0;32mdef\u001b[0m \u001b[0m_is_scalar_access\u001b[0m\u001b[0;34m(\u001b[0m\u001b[0mself\u001b[0m\u001b[0;34m,\u001b[0m \u001b[0mkey\u001b[0m\u001b[0;34m:\u001b[0m \u001b[0mtuple\u001b[0m\u001b[0;34m)\u001b[0m\u001b[0;34m:\u001b[0m\u001b[0;34m\u001b[0m\u001b[0;34m\u001b[0m\u001b[0m\n",
      "\u001b[0;32m~/.pyenv/versions/3.8.12/envs/lewagon/lib/python3.8/site-packages/pandas/core/indexing.py\u001b[0m in \u001b[0;36m_getitem_axis\u001b[0;34m(self, key, axis)\u001b[0m\n\u001b[1;32m   1564\u001b[0m \u001b[0;34m\u001b[0m\u001b[0m\n\u001b[1;32m   1565\u001b[0m             \u001b[0;31m# validate the location\u001b[0m\u001b[0;34m\u001b[0m\u001b[0;34m\u001b[0m\u001b[0;34m\u001b[0m\u001b[0m\n\u001b[0;32m-> 1566\u001b[0;31m             \u001b[0mself\u001b[0m\u001b[0;34m.\u001b[0m\u001b[0m_validate_integer\u001b[0m\u001b[0;34m(\u001b[0m\u001b[0mkey\u001b[0m\u001b[0;34m,\u001b[0m \u001b[0maxis\u001b[0m\u001b[0;34m)\u001b[0m\u001b[0;34m\u001b[0m\u001b[0;34m\u001b[0m\u001b[0m\n\u001b[0m\u001b[1;32m   1567\u001b[0m \u001b[0;34m\u001b[0m\u001b[0m\n\u001b[1;32m   1568\u001b[0m             \u001b[0;32mreturn\u001b[0m \u001b[0mself\u001b[0m\u001b[0;34m.\u001b[0m\u001b[0mobj\u001b[0m\u001b[0;34m.\u001b[0m\u001b[0m_ixs\u001b[0m\u001b[0;34m(\u001b[0m\u001b[0mkey\u001b[0m\u001b[0;34m,\u001b[0m \u001b[0maxis\u001b[0m\u001b[0;34m=\u001b[0m\u001b[0maxis\u001b[0m\u001b[0;34m)\u001b[0m\u001b[0;34m\u001b[0m\u001b[0;34m\u001b[0m\u001b[0m\n",
      "\u001b[0;32m~/.pyenv/versions/3.8.12/envs/lewagon/lib/python3.8/site-packages/pandas/core/indexing.py\u001b[0m in \u001b[0;36m_validate_integer\u001b[0;34m(self, key, axis)\u001b[0m\n\u001b[1;32m   1498\u001b[0m         \u001b[0mlen_axis\u001b[0m \u001b[0;34m=\u001b[0m \u001b[0mlen\u001b[0m\u001b[0;34m(\u001b[0m\u001b[0mself\u001b[0m\u001b[0;34m.\u001b[0m\u001b[0mobj\u001b[0m\u001b[0;34m.\u001b[0m\u001b[0m_get_axis\u001b[0m\u001b[0;34m(\u001b[0m\u001b[0maxis\u001b[0m\u001b[0;34m)\u001b[0m\u001b[0;34m)\u001b[0m\u001b[0;34m\u001b[0m\u001b[0;34m\u001b[0m\u001b[0m\n\u001b[1;32m   1499\u001b[0m         \u001b[0;32mif\u001b[0m \u001b[0mkey\u001b[0m \u001b[0;34m>=\u001b[0m \u001b[0mlen_axis\u001b[0m \u001b[0;32mor\u001b[0m \u001b[0mkey\u001b[0m \u001b[0;34m<\u001b[0m \u001b[0;34m-\u001b[0m\u001b[0mlen_axis\u001b[0m\u001b[0;34m:\u001b[0m\u001b[0;34m\u001b[0m\u001b[0;34m\u001b[0m\u001b[0m\n\u001b[0;32m-> 1500\u001b[0;31m             \u001b[0;32mraise\u001b[0m \u001b[0mIndexError\u001b[0m\u001b[0;34m(\u001b[0m\u001b[0;34m\"single positional indexer is out-of-bounds\"\u001b[0m\u001b[0;34m)\u001b[0m\u001b[0;34m\u001b[0m\u001b[0;34m\u001b[0m\u001b[0m\n\u001b[0m\u001b[1;32m   1501\u001b[0m \u001b[0;34m\u001b[0m\u001b[0m\n\u001b[1;32m   1502\u001b[0m     \u001b[0;31m# -------------------------------------------------------------------\u001b[0m\u001b[0;34m\u001b[0m\u001b[0;34m\u001b[0m\u001b[0;34m\u001b[0m\u001b[0m\n",
      "\u001b[0;31mIndexError\u001b[0m: single positional indexer is out-of-bounds"
     ]
    }
   ],
   "source": [
    "df_fixedi['Quantidade Acumulada'] = 0\n",
    "for line in range(0, len(df_fixedi)):\n",
    "    if df_fixedi['Produto'].iloc[line] != df_fixedi['Produto'].iloc[line+1]:\n",
    "        df_fixedi['Quantidade Acumulada'].append(df_fixedi['Quantidade'])\n",
    "df_fixedi"
   ]
  },
  {
   "cell_type": "code",
   "execution_count": null,
   "id": "feb7b23f",
   "metadata": {},
   "outputs": [],
   "source": [
    "df_fixedi_sel.Produto"
   ]
  },
  {
   "cell_type": "code",
   "execution_count": null,
   "id": "e4b7269c",
   "metadata": {},
   "outputs": [],
   "source": [
    "df_fixedi_buy = df_fixedi[df_fixedi['Data da compra'] > '20000101'].groupby('Produto').agg({'Quantidade':'sum'})\n"
   ]
  },
  {
   "cell_type": "code",
   "execution_count": null,
   "id": "9b5fd19d",
   "metadata": {},
   "outputs": [],
   "source": [
    "df_fixedi_buy = df_fixedi_buy.reset_index()\n",
    "df_fixedi_buy.Produto[0]"
   ]
  },
  {
   "cell_type": "code",
   "execution_count": null,
   "id": "cb333df2",
   "metadata": {},
   "outputs": [],
   "source": [
    "#t = df_fixedi_buy.Quantidade[0] - df_fixedi_sel.Quantidade[1]\n",
    "df_fixedi_buy[0]"
   ]
  },
  {
   "cell_type": "code",
   "execution_count": null,
   "id": "83d95fce",
   "metadata": {},
   "outputs": [],
   "source": [
    "t"
   ]
  },
  {
   "cell_type": "code",
   "execution_count": null,
   "id": "36375e33",
   "metadata": {},
   "outputs": [],
   "source": [
    "df_fixedi_buy.merge(df_fixedi_sel, left_on='Quantidade', right_on='Quantidade')"
   ]
  },
  {
   "cell_type": "code",
   "execution_count": null,
   "id": "f4addaa6",
   "metadata": {},
   "outputs": [],
   "source": [
    "saldo_fixe = df_fixedi_buy."
   ]
  },
  {
   "cell_type": "code",
   "execution_count": null,
   "id": "24faf8c7",
   "metadata": {},
   "outputs": [],
   "source": [
    "Saldo_de_acoes = df_fixedi.groupby('Produto').agg({'Quantidade':'sum'})\n",
    "Saldo_de_acoes"
   ]
  },
  {
   "cell_type": "code",
   "execution_count": null,
   "id": "ffa3b326",
   "metadata": {},
   "outputs": [],
   "source": [
    "# create a lucro feature"
   ]
  },
  {
   "cell_type": "code",
   "execution_count": null,
   "id": "267ca338",
   "metadata": {},
   "outputs": [],
   "source": [
    "# Not work weel however was amazing\n",
    "# df_fixedi['Saldo_de_acoes'] = ''\n",
    "# for line in range(0, len(df_fixedi)):\n",
    "#     if df_fixedi['Produto'].iloc[line] != df_fixedi['Produto'].iloc[line+1]:\n",
    "#         df_fixedi['Saldo_de_acoes'].iloc[line] = Saldo_de_acoes['Quantidade'].iloc[0]\n",
    "#     else:\n",
    "#         df_fixedi['Saldo_de_acoes'].iloc[line] = 'nan'\n",
    "#     if df_fixedi['Produto'].iloc[-1] == df_fixedi['Produto'].iloc[-2]:\n",
    "#         df_fixedi['Saldo_de_acoes'].iloc[-1] = Saldo_de_acoes['Quantidade'].iloc[-1]"
   ]
  },
  {
   "cell_type": "code",
   "execution_count": null,
   "id": "acfef4b9",
   "metadata": {},
   "outputs": [],
   "source": []
  },
  {
   "cell_type": "code",
   "execution_count": null,
   "id": "7532472a",
   "metadata": {},
   "outputs": [],
   "source": [
    "df_fixedi.Quantidade[df_fixedi.Produto == df_fixedi.Produto].sum()"
   ]
  },
  {
   "cell_type": "code",
   "execution_count": null,
   "id": "3f1e7aa2",
   "metadata": {},
   "outputs": [],
   "source": [
    "df_fixedi"
   ]
  },
  {
   "cell_type": "code",
   "execution_count": null,
   "id": "dde162f4",
   "metadata": {},
   "outputs": [],
   "source": []
  },
  {
   "cell_type": "code",
   "execution_count": null,
   "id": "720c7ab4",
   "metadata": {},
   "outputs": [],
   "source": []
  },
  {
   "cell_type": "code",
   "execution_count": null,
   "id": "b2905e28",
   "metadata": {},
   "outputs": [],
   "source": []
  },
  {
   "cell_type": "code",
   "execution_count": null,
   "id": "1cafbf48",
   "metadata": {},
   "outputs": [],
   "source": [
    "#creating spreadsheet\n",
    "#nome cnpj data da compra data da venda quantidade valor R$ total lucro ou prejuízo R$ saldo de de ações\n",
    "b3_sheet = "
   ]
  }
 ],
 "metadata": {
  "kernelspec": {
   "display_name": "Python 3 (ipykernel)",
   "language": "python",
   "name": "python3"
  },
  "language_info": {
   "codemirror_mode": {
    "name": "ipython",
    "version": 3
   },
   "file_extension": ".py",
   "mimetype": "text/x-python",
   "name": "python",
   "nbconvert_exporter": "python",
   "pygments_lexer": "ipython3",
   "version": "3.8.12"
  }
 },
 "nbformat": 4,
 "nbformat_minor": 5
}
