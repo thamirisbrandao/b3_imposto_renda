{
 "cells": [
  {
   "cell_type": "code",
   "execution_count": 1,
   "id": "e20b988e",
   "metadata": {},
   "outputs": [],
   "source": [
    "%load_ext autoreload\n",
    "%autoreload 2"
   ]
  },
  {
   "cell_type": "code",
   "execution_count": 2,
   "id": "cafbd8ef",
   "metadata": {},
   "outputs": [],
   "source": [
    "import pandas as pd\n",
    "from os import listdir\n",
    "from os.path import isfile, join\n",
    "import numpy as np"
   ]
  },
  {
   "cell_type": "code",
   "execution_count": 3,
   "id": "7f09798a",
   "metadata": {},
   "outputs": [],
   "source": [
    "path = '../raw_data'\n",
    "files = [f for f in listdir(path) if isfile(join(path, f))] "
   ]
  },
  {
   "cell_type": "code",
   "execution_count": 5,
   "id": "a81a61ec",
   "metadata": {},
   "outputs": [
    {
     "name": "stdout",
     "output_type": "stream",
     "text": [
      "movimentacao-2022.xlsx\n"
     ]
    }
   ],
   "source": [
    "print(files[1])"
   ]
  },
  {
   "cell_type": "code",
   "execution_count": null,
   "id": "8d3f1d5f",
   "metadata": {},
   "outputs": [],
   "source": [
    "list_files = []\n",
    "for file in range(0, , 2):\n",
    "    list_file = pd.read_excel(f'{path}/{files[file]}')\n",
    "    list_files.append(list_file)"
   ]
  },
  {
   "cell_type": "code",
   "execution_count": null,
   "id": "82f8c406",
   "metadata": {},
   "outputs": [],
   "source": [
    "list_files[1]"
   ]
  },
  {
   "cell_type": "code",
   "execution_count": null,
   "id": "e481595f",
   "metadata": {},
   "outputs": [],
   "source": [
    "df_files = pd.concat(list_files)\n",
    "#df_files[\"Data\"].iloc[0]"
   ]
  },
  {
   "cell_type": "code",
   "execution_count": null,
   "id": "04259af7",
   "metadata": {},
   "outputs": [],
   "source": [
    "#df_files = pd.to_datetime(df_files[\"Data\"])"
   ]
  },
  {
   "cell_type": "code",
   "execution_count": null,
   "id": "25632d2d",
   "metadata": {},
   "outputs": [],
   "source": [
    "# df_files = df_files.sort_values(by=\"Data\", ascending=False)\n",
    "# print(df_files)"
   ]
  },
  {
   "cell_type": "code",
   "execution_count": null,
   "id": "0193926d",
   "metadata": {},
   "outputs": [],
   "source": [
    "# df_files[\"Data\"].iloc[0]"
   ]
  }
 ],
 "metadata": {
  "kernelspec": {
   "display_name": "Python 3 (ipykernel)",
   "language": "python",
   "name": "python3"
  },
  "language_info": {
   "codemirror_mode": {
    "name": "ipython",
    "version": 3
   },
   "file_extension": ".py",
   "mimetype": "text/x-python",
   "name": "python",
   "nbconvert_exporter": "python",
   "pygments_lexer": "ipython3",
   "version": "3.8.12"
  }
 },
 "nbformat": 4,
 "nbformat_minor": 5
}
