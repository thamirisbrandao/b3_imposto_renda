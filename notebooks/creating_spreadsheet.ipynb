{
 "cells": [
  {
   "cell_type": "markdown",
   "id": "abc25184",
   "metadata": {},
   "source": [
    "# Creating spreadsheet from B3 to income tax"
   ]
  },
  {
   "cell_type": "markdown",
   "id": "dc777152",
   "metadata": {},
   "source": [
    "# Criando uma planilha com dados retirados da B3 para declarar no impost do renda"
   ]
  },
  {
   "cell_type": "code",
   "execution_count": 1,
   "id": "e20b988e",
   "metadata": {},
   "outputs": [],
   "source": [
    "%load_ext autoreload\n",
    "%autoreload 2\n",
    "import pandas as pd\n",
    "from os import listdir\n",
    "from os.path import isfile, join\n",
    "import numpy as np"
   ]
  },
  {
   "cell_type": "markdown",
   "id": "e8e6644d",
   "metadata": {},
   "source": [
    "Is necessary to put the data in raw_data directory because the informations are personas"
   ]
  },
  {
   "cell_type": "markdown",
   "id": "66126980",
   "metadata": {},
   "source": [
    "Necessário colocar os dados em raw_data por se tratar de informações pessoais"
   ]
  },
  {
   "cell_type": "code",
   "execution_count": 2,
   "id": "7f09798a",
   "metadata": {},
   "outputs": [],
   "source": [
    "path = '../raw_data'\n",
    "files = [f for f in listdir(path) if isfile(join(path, f))] "
   ]
  },
  {
   "cell_type": "markdown",
   "id": "8f578bb5",
   "metadata": {},
   "source": [
    "Feature engineering"
   ]
  },
  {
   "cell_type": "markdown",
   "id": "b5afa11f",
   "metadata": {},
   "source": [
    "Organizando as colunas "
   ]
  },
  {
   "cell_type": "code",
   "execution_count": 3,
   "id": "4932aec2",
   "metadata": {
    "scrolled": true
   },
   "outputs": [
    {
     "name": "stderr",
     "output_type": "stream",
     "text": [
      "/home/thamirisbrandao/.pyenv/versions/3.8.12/envs/lewagon/lib/python3.8/site-packages/openpyxl/styles/stylesheet.py:226: UserWarning: Workbook contains no default style, apply openpyxl's default\n",
      "  warn(\"Workbook contains no default style, apply openpyxl's default\")\n"
     ]
    },
    {
     "data": {
      "text/html": [
       "<div>\n",
       "<style scoped>\n",
       "    .dataframe tbody tr th:only-of-type {\n",
       "        vertical-align: middle;\n",
       "    }\n",
       "\n",
       "    .dataframe tbody tr th {\n",
       "        vertical-align: top;\n",
       "    }\n",
       "\n",
       "    .dataframe thead th {\n",
       "        text-align: right;\n",
       "    }\n",
       "</style>\n",
       "<table border=\"1\" class=\"dataframe\">\n",
       "  <thead>\n",
       "    <tr style=\"text-align: right;\">\n",
       "      <th></th>\n",
       "      <th>Entrada/Saída</th>\n",
       "      <th>Data</th>\n",
       "      <th>Movimentação</th>\n",
       "      <th>Produto</th>\n",
       "      <th>Instituição</th>\n",
       "      <th>Quantidade</th>\n",
       "      <th>Preço unitário</th>\n",
       "      <th>Valor da Operação</th>\n",
       "    </tr>\n",
       "  </thead>\n",
       "  <tbody>\n",
       "    <tr>\n",
       "      <th>48</th>\n",
       "      <td>Debito</td>\n",
       "      <td>2020-05-19</td>\n",
       "      <td>Transferência - Liquidação</td>\n",
       "      <td>ABEV3 - AMBEV S.A.                            ...</td>\n",
       "      <td>XP INVESTIMENTOS CCTVM S/A</td>\n",
       "      <td>100</td>\n",
       "      <td>11.81</td>\n",
       "      <td>1181.00</td>\n",
       "    </tr>\n",
       "    <tr>\n",
       "      <th>6</th>\n",
       "      <td>Debito</td>\n",
       "      <td>2021-10-11</td>\n",
       "      <td>Transferência - Liquidação</td>\n",
       "      <td>AMER3        - B2W COMPANHIA DIGITAL</td>\n",
       "      <td>CLEAR CORRETORA - GRUPO XP</td>\n",
       "      <td>72</td>\n",
       "      <td>32.67</td>\n",
       "      <td>2352.24</td>\n",
       "    </tr>\n",
       "    <tr>\n",
       "      <th>31</th>\n",
       "      <td>Credito</td>\n",
       "      <td>2020-03-06</td>\n",
       "      <td>Transferência - Liquidação</td>\n",
       "      <td>BBAS3 - BCO BRASIL S.A.                       ...</td>\n",
       "      <td>CLEAR CORRETORA - GRUPO XP</td>\n",
       "      <td>50</td>\n",
       "      <td>31.86</td>\n",
       "      <td>1593.00</td>\n",
       "    </tr>\n",
       "    <tr>\n",
       "      <th>17</th>\n",
       "      <td>Credito</td>\n",
       "      <td>2020-06-24</td>\n",
       "      <td>Transferência - Liquidação</td>\n",
       "      <td>BBAS3 - BCO BRASIL S.A.                       ...</td>\n",
       "      <td>CLEAR CORRETORA - GRUPO XP</td>\n",
       "      <td>50</td>\n",
       "      <td>33.70</td>\n",
       "      <td>1685.00</td>\n",
       "    </tr>\n",
       "    <tr>\n",
       "      <th>7</th>\n",
       "      <td>Debito</td>\n",
       "      <td>2021-05-24</td>\n",
       "      <td>Transferência - Liquidação</td>\n",
       "      <td>BBAS3 - BCO BRASIL S.A.                       ...</td>\n",
       "      <td>CLEAR CORRETORA - GRUPO XP</td>\n",
       "      <td>210</td>\n",
       "      <td>32.83</td>\n",
       "      <td>6894.30</td>\n",
       "    </tr>\n",
       "    <tr>\n",
       "      <th>...</th>\n",
       "      <td>...</td>\n",
       "      <td>...</td>\n",
       "      <td>...</td>\n",
       "      <td>...</td>\n",
       "      <td>...</td>\n",
       "      <td>...</td>\n",
       "      <td>...</td>\n",
       "      <td>...</td>\n",
       "    </tr>\n",
       "    <tr>\n",
       "      <th>62</th>\n",
       "      <td>Credito</td>\n",
       "      <td>2020-03-20</td>\n",
       "      <td>Transferência - Liquidação</td>\n",
       "      <td>VVAR3 - VIA VAREJO S.A.                       ...</td>\n",
       "      <td>CLEAR CORRETORA - GRUPO XP</td>\n",
       "      <td>900</td>\n",
       "      <td>4.35</td>\n",
       "      <td>3915.00</td>\n",
       "    </tr>\n",
       "    <tr>\n",
       "      <th>50</th>\n",
       "      <td>Debito</td>\n",
       "      <td>2020-05-05</td>\n",
       "      <td>Transferência - Liquidação</td>\n",
       "      <td>VVAR3 - VIA VAREJO S.A.                       ...</td>\n",
       "      <td>CLEAR CORRETORA - GRUPO XP</td>\n",
       "      <td>1800</td>\n",
       "      <td>9.00</td>\n",
       "      <td>16200.00</td>\n",
       "    </tr>\n",
       "    <tr>\n",
       "      <th>41</th>\n",
       "      <td>Credito</td>\n",
       "      <td>2020-03-06</td>\n",
       "      <td>Transferência - Liquidação</td>\n",
       "      <td>YDUQ3 - YDUQS PARTICIPACOES S.A.              ...</td>\n",
       "      <td>CLEAR CORRETORA - GRUPO XP</td>\n",
       "      <td>40</td>\n",
       "      <td>29.50</td>\n",
       "      <td>1180.00</td>\n",
       "    </tr>\n",
       "    <tr>\n",
       "      <th>14</th>\n",
       "      <td>Credito</td>\n",
       "      <td>2020-07-28</td>\n",
       "      <td>Transferência - Liquidação</td>\n",
       "      <td>YDUQ3 - YDUQS PARTICIPACOES S.A.              ...</td>\n",
       "      <td>CLEAR CORRETORA - GRUPO XP</td>\n",
       "      <td>40</td>\n",
       "      <td>32.98</td>\n",
       "      <td>1319.20</td>\n",
       "    </tr>\n",
       "    <tr>\n",
       "      <th>17</th>\n",
       "      <td>Debito</td>\n",
       "      <td>2021-05-24</td>\n",
       "      <td>Transferência - Liquidação</td>\n",
       "      <td>YDUQ3 - YDUQS PARTICIPACOES S.A.              ...</td>\n",
       "      <td>CLEAR CORRETORA - GRUPO XP</td>\n",
       "      <td>80</td>\n",
       "      <td>31.43</td>\n",
       "      <td>2514.40</td>\n",
       "    </tr>\n",
       "  </tbody>\n",
       "</table>\n",
       "<p>116 rows × 8 columns</p>\n",
       "</div>"
      ],
      "text/plain": [
       "   Entrada/Saída       Data                Movimentação  \\\n",
       "48        Debito 2020-05-19  Transferência - Liquidação   \n",
       "6         Debito 2021-10-11  Transferência - Liquidação   \n",
       "31       Credito 2020-03-06  Transferência - Liquidação   \n",
       "17       Credito 2020-06-24  Transferência - Liquidação   \n",
       "7         Debito 2021-05-24  Transferência - Liquidação   \n",
       "..           ...        ...                         ...   \n",
       "62       Credito 2020-03-20  Transferência - Liquidação   \n",
       "50        Debito 2020-05-05  Transferência - Liquidação   \n",
       "41       Credito 2020-03-06  Transferência - Liquidação   \n",
       "14       Credito 2020-07-28  Transferência - Liquidação   \n",
       "17        Debito 2021-05-24  Transferência - Liquidação   \n",
       "\n",
       "                                              Produto  \\\n",
       "48  ABEV3 - AMBEV S.A.                            ...   \n",
       "6                AMER3        - B2W COMPANHIA DIGITAL   \n",
       "31  BBAS3 - BCO BRASIL S.A.                       ...   \n",
       "17  BBAS3 - BCO BRASIL S.A.                       ...   \n",
       "7   BBAS3 - BCO BRASIL S.A.                       ...   \n",
       "..                                                ...   \n",
       "62  VVAR3 - VIA VAREJO S.A.                       ...   \n",
       "50  VVAR3 - VIA VAREJO S.A.                       ...   \n",
       "41  YDUQ3 - YDUQS PARTICIPACOES S.A.              ...   \n",
       "14  YDUQ3 - YDUQS PARTICIPACOES S.A.              ...   \n",
       "17  YDUQ3 - YDUQS PARTICIPACOES S.A.              ...   \n",
       "\n",
       "                   Instituição Quantidade  Preço unitário  Valor da Operação  \n",
       "48  XP INVESTIMENTOS CCTVM S/A        100           11.81            1181.00  \n",
       "6   CLEAR CORRETORA - GRUPO XP         72           32.67            2352.24  \n",
       "31  CLEAR CORRETORA - GRUPO XP         50           31.86            1593.00  \n",
       "17  CLEAR CORRETORA - GRUPO XP         50           33.70            1685.00  \n",
       "7   CLEAR CORRETORA - GRUPO XP        210           32.83            6894.30  \n",
       "..                         ...        ...             ...                ...  \n",
       "62  CLEAR CORRETORA - GRUPO XP        900            4.35            3915.00  \n",
       "50  CLEAR CORRETORA - GRUPO XP       1800            9.00           16200.00  \n",
       "41  CLEAR CORRETORA - GRUPO XP         40           29.50            1180.00  \n",
       "14  CLEAR CORRETORA - GRUPO XP         40           32.98            1319.20  \n",
       "17  CLEAR CORRETORA - GRUPO XP         80           31.43            2514.40  \n",
       "\n",
       "[116 rows x 8 columns]"
      ]
     },
     "execution_count": 3,
     "metadata": {},
     "output_type": "execute_result"
    }
   ],
   "source": [
    "list_files = []\n",
    "for file in range(0, len(files)):\n",
    "    list_file = pd.read_excel(f'{path}/{files[file]}')\n",
    "    list_files.append(list_file)\n",
    "list_all_files = pd.concat(list_files)\n",
    "list_all_files.Data = pd.to_datetime(list_all_files.Data)\n",
    "list_files_s = list_all_files.sort_values(by=['Produto', 'Data'])\n",
    "df_files = pd.DataFrame(list_files_s)\n",
    "df_files"
   ]
  },
  {
   "cell_type": "code",
   "execution_count": 4,
   "id": "1eee2645",
   "metadata": {},
   "outputs": [],
   "source": [
    "df_files['Data da compra'] = df_files['Data'].where(df_files['Entrada/Saída'] == 'Credito')\n",
    "df_files['Data da venda'] = df_files['Data'].where(df_files['Entrada/Saída'] == 'Debito')\n",
    "#df_files.drop(columns={[['Entrada/Saída', 'Data']]}, inplace=True)\n",
    "df_files = df_files[['Produto', 'Data da compra', 'Data da venda', 'Quantidade', 'Preço unitário', 'Valor da Operação', 'Movimentação', 'Instituição']]\n",
    "df_stock = df_files[df_files['Movimentação'] == 'Transferência - Liquidação']\n",
    "df_stock = df_files[['Produto', 'Data da compra', 'Data da venda', 'Quantidade', 'Preço unitário', 'Valor da Operação', 'Instituição']]\n",
    "df_fixedi_c = df_files[df_files['Movimentação'] == 'Compra']\n",
    "df_fixedi_v = df_files[df_files['Movimentação'] == 'Venda']\n",
    "df_fixedi = pd.concat([df_fixedi_c, df_fixedi_v])\n",
    "df_fixedi = df_fixedi[['Produto', 'Data da compra', 'Data da venda', 'Quantidade', 'Preço unitário', 'Valor da Operação', 'Instituição']]"
   ]
  },
  {
   "cell_type": "code",
   "execution_count": 10,
   "id": "3c1303d6",
   "metadata": {},
   "outputs": [
    {
     "ename": "ValueError",
     "evalue": "Columns must be same length as key",
     "output_type": "error",
     "traceback": [
      "\u001b[0;31m---------------------------------------------------------------------------\u001b[0m",
      "\u001b[0;31mValueError\u001b[0m                                Traceback (most recent call last)",
      "\u001b[0;32m/tmp/ipykernel_3958/147163730.py\u001b[0m in \u001b[0;36m<module>\u001b[0;34m\u001b[0m\n\u001b[0;32m----> 1\u001b[0;31m \u001b[0mdf_fixedi\u001b[0m\u001b[0;34m[\u001b[0m\u001b[0;34m'Quantidade'\u001b[0m\u001b[0;34m]\u001b[0m \u001b[0;34m=\u001b[0m \u001b[0mdf_fixedi\u001b[0m\u001b[0;34m.\u001b[0m\u001b[0msort_values\u001b[0m\u001b[0;34m(\u001b[0m\u001b[0mby\u001b[0m\u001b[0;34m=\u001b[0m\u001b[0;34m[\u001b[0m\u001b[0;34m'Produto'\u001b[0m\u001b[0;34m]\u001b[0m\u001b[0;34m)\u001b[0m\u001b[0;34m\u001b[0m\u001b[0;34m\u001b[0m\u001b[0m\n\u001b[0m\u001b[1;32m      2\u001b[0m \u001b[0;34m\u001b[0m\u001b[0m\n\u001b[1;32m      3\u001b[0m \u001b[0mpd\u001b[0m\u001b[0;34m.\u001b[0m\u001b[0mto_numeric\u001b[0m\u001b[0;34m(\u001b[0m\u001b[0mdf_fixedi\u001b[0m\u001b[0;34m[\u001b[0m\u001b[0;34m'Quantidade'\u001b[0m\u001b[0;34m]\u001b[0m\u001b[0;34m,\u001b[0m \u001b[0mdowncast\u001b[0m\u001b[0;34m=\u001b[0m\u001b[0;34m'float'\u001b[0m\u001b[0;34m,\u001b[0m \u001b[0minplace\u001b[0m\u001b[0;34m=\u001b[0m\u001b[0;32mTrue\u001b[0m\u001b[0;34m)\u001b[0m\u001b[0;34m\u001b[0m\u001b[0;34m\u001b[0m\u001b[0m\n\u001b[1;32m      4\u001b[0m \u001b[0;34m\u001b[0m\u001b[0m\n\u001b[1;32m      5\u001b[0m \u001b[0mdf_fixedi\u001b[0m\u001b[0;34m[\u001b[0m\u001b[0;34m'Quantidade'\u001b[0m\u001b[0;34m]\u001b[0m\u001b[0;34m.\u001b[0m\u001b[0mastype\u001b[0m\u001b[0;34m(\u001b[0m\u001b[0;34m'float'\u001b[0m\u001b[0;34m)\u001b[0m\u001b[0;34m.\u001b[0m\u001b[0mdtypes\u001b[0m\u001b[0;34m\u001b[0m\u001b[0;34m\u001b[0m\u001b[0m\n",
      "\u001b[0;32m~/.pyenv/versions/3.8.12/envs/lewagon/lib/python3.8/site-packages/pandas/core/frame.py\u001b[0m in \u001b[0;36m__setitem__\u001b[0;34m(self, key, value)\u001b[0m\n\u001b[1;32m   3600\u001b[0m             \u001b[0mself\u001b[0m\u001b[0;34m.\u001b[0m\u001b[0m_setitem_array\u001b[0m\u001b[0;34m(\u001b[0m\u001b[0mkey\u001b[0m\u001b[0;34m,\u001b[0m \u001b[0mvalue\u001b[0m\u001b[0;34m)\u001b[0m\u001b[0;34m\u001b[0m\u001b[0;34m\u001b[0m\u001b[0m\n\u001b[1;32m   3601\u001b[0m         \u001b[0;32melif\u001b[0m \u001b[0misinstance\u001b[0m\u001b[0;34m(\u001b[0m\u001b[0mvalue\u001b[0m\u001b[0;34m,\u001b[0m \u001b[0mDataFrame\u001b[0m\u001b[0;34m)\u001b[0m\u001b[0;34m:\u001b[0m\u001b[0;34m\u001b[0m\u001b[0;34m\u001b[0m\u001b[0m\n\u001b[0;32m-> 3602\u001b[0;31m             \u001b[0mself\u001b[0m\u001b[0;34m.\u001b[0m\u001b[0m_set_item_frame_value\u001b[0m\u001b[0;34m(\u001b[0m\u001b[0mkey\u001b[0m\u001b[0;34m,\u001b[0m \u001b[0mvalue\u001b[0m\u001b[0;34m)\u001b[0m\u001b[0;34m\u001b[0m\u001b[0;34m\u001b[0m\u001b[0m\n\u001b[0m\u001b[1;32m   3603\u001b[0m         elif (\n\u001b[1;32m   3604\u001b[0m             \u001b[0mis_list_like\u001b[0m\u001b[0;34m(\u001b[0m\u001b[0mvalue\u001b[0m\u001b[0;34m)\u001b[0m\u001b[0;34m\u001b[0m\u001b[0;34m\u001b[0m\u001b[0m\n",
      "\u001b[0;32m~/.pyenv/versions/3.8.12/envs/lewagon/lib/python3.8/site-packages/pandas/core/frame.py\u001b[0m in \u001b[0;36m_set_item_frame_value\u001b[0;34m(self, key, value)\u001b[0m\n\u001b[1;32m   3727\u001b[0m             \u001b[0mlen_cols\u001b[0m \u001b[0;34m=\u001b[0m \u001b[0;36m1\u001b[0m \u001b[0;32mif\u001b[0m \u001b[0mis_scalar\u001b[0m\u001b[0;34m(\u001b[0m\u001b[0mcols\u001b[0m\u001b[0;34m)\u001b[0m \u001b[0;32melse\u001b[0m \u001b[0mlen\u001b[0m\u001b[0;34m(\u001b[0m\u001b[0mcols\u001b[0m\u001b[0;34m)\u001b[0m\u001b[0;34m\u001b[0m\u001b[0;34m\u001b[0m\u001b[0m\n\u001b[1;32m   3728\u001b[0m             \u001b[0;32mif\u001b[0m \u001b[0mlen_cols\u001b[0m \u001b[0;34m!=\u001b[0m \u001b[0mlen\u001b[0m\u001b[0;34m(\u001b[0m\u001b[0mvalue\u001b[0m\u001b[0;34m.\u001b[0m\u001b[0mcolumns\u001b[0m\u001b[0;34m)\u001b[0m\u001b[0;34m:\u001b[0m\u001b[0;34m\u001b[0m\u001b[0;34m\u001b[0m\u001b[0m\n\u001b[0;32m-> 3729\u001b[0;31m                 \u001b[0;32mraise\u001b[0m \u001b[0mValueError\u001b[0m\u001b[0;34m(\u001b[0m\u001b[0;34m\"Columns must be same length as key\"\u001b[0m\u001b[0;34m)\u001b[0m\u001b[0;34m\u001b[0m\u001b[0;34m\u001b[0m\u001b[0m\n\u001b[0m\u001b[1;32m   3730\u001b[0m \u001b[0;34m\u001b[0m\u001b[0m\n\u001b[1;32m   3731\u001b[0m             \u001b[0;31m# align right-hand-side columns if self.columns\u001b[0m\u001b[0;34m\u001b[0m\u001b[0;34m\u001b[0m\u001b[0;34m\u001b[0m\u001b[0m\n",
      "\u001b[0;31mValueError\u001b[0m: Columns must be same length as key"
     ]
    }
   ],
   "source": [
    "df_fixedi['Quantidade'] = df_fixedi.sort_values(by=['Produto'])\n",
    "\n",
    "pd.to_numeric(df_fixedi['Quantidade'], downcast='float', inplace=True)\n",
    "\n",
    "df_fixedi['Quantidade'].astype('float').dtypes"
   ]
  },
  {
   "cell_type": "code",
   "execution_count": null,
   "id": "8a47035f",
   "metadata": {},
   "outputs": [],
   "source": [
    "(df_stock)"
   ]
  },
  {
   "cell_type": "code",
   "execution_count": null,
   "id": "2c4f7526",
   "metadata": {},
   "outputs": [],
   "source": [
    "df_fixedi"
   ]
  },
  {
   "cell_type": "code",
   "execution_count": 7,
   "id": "af2586de",
   "metadata": {},
   "outputs": [
    {
     "data": {
      "text/html": [
       "<div>\n",
       "<style scoped>\n",
       "    .dataframe tbody tr th:only-of-type {\n",
       "        vertical-align: middle;\n",
       "    }\n",
       "\n",
       "    .dataframe tbody tr th {\n",
       "        vertical-align: top;\n",
       "    }\n",
       "\n",
       "    .dataframe thead th {\n",
       "        text-align: right;\n",
       "    }\n",
       "</style>\n",
       "<table border=\"1\" class=\"dataframe\">\n",
       "  <thead>\n",
       "    <tr style=\"text-align: right;\">\n",
       "      <th></th>\n",
       "      <th>Produto</th>\n",
       "      <th>Data da compra</th>\n",
       "      <th>Data da venda</th>\n",
       "      <th>Quantidade</th>\n",
       "      <th>Preço unitário</th>\n",
       "      <th>Valor da Operação</th>\n",
       "      <th>Instituição</th>\n",
       "    </tr>\n",
       "  </thead>\n",
       "  <tbody>\n",
       "    <tr>\n",
       "      <th>63</th>\n",
       "      <td>Tesouro Selic 2023</td>\n",
       "      <td>NaT</td>\n",
       "      <td>2020-03-17</td>\n",
       "      <td>0,71</td>\n",
       "      <td>10551.64</td>\n",
       "      <td>7491.66</td>\n",
       "      <td>XP INVESTIMENTOS CCTVM S/A</td>\n",
       "    </tr>\n",
       "    <tr>\n",
       "      <th>78</th>\n",
       "      <td>Tesouro Selic 2025</td>\n",
       "      <td>2020-07-01</td>\n",
       "      <td>NaT</td>\n",
       "      <td>2,14</td>\n",
       "      <td>10466.52</td>\n",
       "      <td>22398.35</td>\n",
       "      <td>CLEAR CORRETORA - GRUPO XP</td>\n",
       "    </tr>\n",
       "    <tr>\n",
       "      <th>0</th>\n",
       "      <td>Tesouro Selic 2025</td>\n",
       "      <td>2022-03-23</td>\n",
       "      <td>NaT</td>\n",
       "      <td>4,72</td>\n",
       "      <td>11457.89</td>\n",
       "      <td>54081.24</td>\n",
       "      <td>CLEAR CORRETORA - GRUPO XP</td>\n",
       "    </tr>\n",
       "    <tr>\n",
       "      <th>77</th>\n",
       "      <td>Tesouro Selic 2025</td>\n",
       "      <td>NaT</td>\n",
       "      <td>2020-03-02</td>\n",
       "      <td>2,14</td>\n",
       "      <td>10495.41</td>\n",
       "      <td>22460.18</td>\n",
       "      <td>CLEAR CORRETORA - GRUPO XP</td>\n",
       "    </tr>\n",
       "    <tr>\n",
       "      <th>6</th>\n",
       "      <td>Tesouro Selic 2027</td>\n",
       "      <td>2021-10-19</td>\n",
       "      <td>NaT</td>\n",
       "      <td>7,34</td>\n",
       "      <td>10905.72</td>\n",
       "      <td>80047.98</td>\n",
       "      <td>CLEAR CORRETORA - GRUPO XP</td>\n",
       "    </tr>\n",
       "  </tbody>\n",
       "</table>\n",
       "</div>"
      ],
      "text/plain": [
       "               Produto Data da compra Data da venda Quantidade  \\\n",
       "63  Tesouro Selic 2023            NaT    2020-03-17       0,71   \n",
       "78  Tesouro Selic 2025     2020-07-01           NaT       2,14   \n",
       "0   Tesouro Selic 2025     2022-03-23           NaT       4,72   \n",
       "77  Tesouro Selic 2025            NaT    2020-03-02       2,14   \n",
       "6   Tesouro Selic 2027     2021-10-19           NaT       7,34   \n",
       "\n",
       "    Preço unitário  Valor da Operação                 Instituição  \n",
       "63        10551.64            7491.66  XP INVESTIMENTOS CCTVM S/A  \n",
       "78        10466.52           22398.35  CLEAR CORRETORA - GRUPO XP  \n",
       "0         11457.89           54081.24  CLEAR CORRETORA - GRUPO XP  \n",
       "77        10495.41           22460.18  CLEAR CORRETORA - GRUPO XP  \n",
       "6         10905.72           80047.98  CLEAR CORRETORA - GRUPO XP  "
      ]
     },
     "execution_count": 7,
     "metadata": {},
     "output_type": "execute_result"
    }
   ],
   "source": [
    "t = df_fixedi.sort_values(by=['Produto'])\n",
    "t"
   ]
  },
  {
   "cell_type": "code",
   "execution_count": 8,
   "id": "0f22a4b3",
   "metadata": {},
   "outputs": [
    {
     "ename": "ValueError",
     "evalue": "Unable to parse string \"0,71\" at position 0",
     "output_type": "error",
     "traceback": [
      "\u001b[0;31m---------------------------------------------------------------------------\u001b[0m",
      "\u001b[0;31mValueError\u001b[0m                                Traceback (most recent call last)",
      "\u001b[0;32m~/.pyenv/versions/3.8.12/envs/lewagon/lib/python3.8/site-packages/pandas/_libs/lib.pyx\u001b[0m in \u001b[0;36mpandas._libs.lib.maybe_convert_numeric\u001b[0;34m()\u001b[0m\n",
      "\u001b[0;31mValueError\u001b[0m: Unable to parse string \"0,71\"",
      "\nDuring handling of the above exception, another exception occurred:\n",
      "\u001b[0;31mValueError\u001b[0m                                Traceback (most recent call last)",
      "\u001b[0;32m/tmp/ipykernel_3958/3525077241.py\u001b[0m in \u001b[0;36m<module>\u001b[0;34m\u001b[0m\n\u001b[0;32m----> 1\u001b[0;31m \u001b[0mpd\u001b[0m\u001b[0;34m.\u001b[0m\u001b[0mto_numeric\u001b[0m\u001b[0;34m(\u001b[0m\u001b[0mt\u001b[0m\u001b[0;34m.\u001b[0m\u001b[0mQuantidade\u001b[0m\u001b[0;34m,\u001b[0m \u001b[0mdowncast\u001b[0m\u001b[0;34m=\u001b[0m\u001b[0;34m'float'\u001b[0m\u001b[0;34m)\u001b[0m\u001b[0;34m\u001b[0m\u001b[0;34m\u001b[0m\u001b[0m\n\u001b[0m",
      "\u001b[0;32m~/.pyenv/versions/3.8.12/envs/lewagon/lib/python3.8/site-packages/pandas/core/tools/numeric.py\u001b[0m in \u001b[0;36mto_numeric\u001b[0;34m(arg, errors, downcast)\u001b[0m\n\u001b[1;32m    181\u001b[0m         \u001b[0mcoerce_numeric\u001b[0m \u001b[0;34m=\u001b[0m \u001b[0merrors\u001b[0m \u001b[0;32mnot\u001b[0m \u001b[0;32min\u001b[0m \u001b[0;34m(\u001b[0m\u001b[0;34m\"ignore\"\u001b[0m\u001b[0;34m,\u001b[0m \u001b[0;34m\"raise\"\u001b[0m\u001b[0;34m)\u001b[0m\u001b[0;34m\u001b[0m\u001b[0;34m\u001b[0m\u001b[0m\n\u001b[1;32m    182\u001b[0m         \u001b[0;32mtry\u001b[0m\u001b[0;34m:\u001b[0m\u001b[0;34m\u001b[0m\u001b[0;34m\u001b[0m\u001b[0m\n\u001b[0;32m--> 183\u001b[0;31m             values, _ = lib.maybe_convert_numeric(\n\u001b[0m\u001b[1;32m    184\u001b[0m                 \u001b[0mvalues\u001b[0m\u001b[0;34m,\u001b[0m \u001b[0mset\u001b[0m\u001b[0;34m(\u001b[0m\u001b[0;34m)\u001b[0m\u001b[0;34m,\u001b[0m \u001b[0mcoerce_numeric\u001b[0m\u001b[0;34m=\u001b[0m\u001b[0mcoerce_numeric\u001b[0m\u001b[0;34m\u001b[0m\u001b[0;34m\u001b[0m\u001b[0m\n\u001b[1;32m    185\u001b[0m             )\n",
      "\u001b[0;32m~/.pyenv/versions/3.8.12/envs/lewagon/lib/python3.8/site-packages/pandas/_libs/lib.pyx\u001b[0m in \u001b[0;36mpandas._libs.lib.maybe_convert_numeric\u001b[0;34m()\u001b[0m\n",
      "\u001b[0;31mValueError\u001b[0m: Unable to parse string \"0,71\" at position 0"
     ]
    }
   ],
   "source": [
    "pd.to_numeric(t.Quantidade, downcast='float')"
   ]
  },
  {
   "cell_type": "code",
   "execution_count": null,
   "id": "2b19be9e",
   "metadata": {},
   "outputs": [],
   "source": [
    "te = df_fixedi.groupby('Produto').agg({'Quantidade':'sum'}).reset_index()"
   ]
  },
  {
   "cell_type": "code",
   "execution_count": null,
   "id": "8d7167c6",
   "metadata": {},
   "outputs": [],
   "source": [
    "te"
   ]
  },
  {
   "cell_type": "code",
   "execution_count": null,
   "id": "0ed41eeb",
   "metadata": {},
   "outputs": [],
   "source": [
    "tes = t.groupby('Produto')['Quantidade'].sum()\n",
    "tes"
   ]
  },
  {
   "cell_type": "code",
   "execution_count": null,
   "id": "af6d576d",
   "metadata": {},
   "outputs": [],
   "source": [
    "t.Quantidade[t.Produto == t.Produto].sum()"
   ]
  },
  {
   "cell_type": "code",
   "execution_count": null,
   "id": "42b1988d",
   "metadata": {},
   "outputs": [],
   "source": [
    "#se as linhas dos produtos forem iguais soma a quantidade e plota\n",
    "#t = df_fixedi.groupby(['Produto']).agg({'Quantidade':'sum'})\n",
    "#.count()[['Quantidade']]\n",
    "#t\n",
    "\n",
    "df_fixedi.groupby('Produto')['Quantidade'].sum()"
   ]
  },
  {
   "cell_type": "code",
   "execution_count": null,
   "id": "910a4c67",
   "metadata": {},
   "outputs": [],
   "source": [
    "# df_stock['saldo de acoes'] = df_stock.groupby('Produto').sum()[[df_stock['Quantidade']]].reset_index()\n",
    "# df_stock\n",
    "df_stock_s = df_stock.sort_values(by=['Produto', 'Data'])\n",
    "df_stock_s['saldo de acoes'] = df_stock_s.groupby(['Produto']).count()[['Quantidade']]\n",
    "df_stock_s\n",
    "# items = self.data['order_items']\n",
    "#         p = items.groupby('order_id').count()[['product_id']]"
   ]
  },
  {
   "cell_type": "code",
   "execution_count": null,
   "id": "dde162f4",
   "metadata": {},
   "outputs": [],
   "source": []
  },
  {
   "cell_type": "code",
   "execution_count": null,
   "id": "720c7ab4",
   "metadata": {},
   "outputs": [],
   "source": []
  },
  {
   "cell_type": "code",
   "execution_count": null,
   "id": "b2905e28",
   "metadata": {},
   "outputs": [],
   "source": []
  },
  {
   "cell_type": "code",
   "execution_count": null,
   "id": "1cafbf48",
   "metadata": {},
   "outputs": [],
   "source": [
    "#creating spreadsheet\n",
    "#nome cnpj data da compra data da venda quantidade valor R$ total lucro ou prejuízo R$ saldo de de ações\n",
    "b3_sheet = "
   ]
  }
 ],
 "metadata": {
  "kernelspec": {
   "display_name": "Python 3 (ipykernel)",
   "language": "python",
   "name": "python3"
  },
  "language_info": {
   "codemirror_mode": {
    "name": "ipython",
    "version": 3
   },
   "file_extension": ".py",
   "mimetype": "text/x-python",
   "name": "python",
   "nbconvert_exporter": "python",
   "pygments_lexer": "ipython3",
   "version": "3.8.12"
  }
 },
 "nbformat": 4,
 "nbformat_minor": 5
}
